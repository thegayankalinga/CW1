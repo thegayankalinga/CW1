{
 "cells": [
  {
   "cell_type": "markdown",
   "id": "414517bf",
   "metadata": {},
   "source": [
    "# Data Loading & Initiation"
   ]
  },
  {
   "cell_type": "code",
   "execution_count": 121,
   "id": "990f42a3-8b86-4e73-9c28-1361b890fe2a",
   "metadata": {},
   "outputs": [
    {
     "data": {
      "text/plain": [
       "Index(['Test ID', 'Encoded Systemic Illness', 'Rectal Pain', 'Sore Throat',\n",
       "       'Penile Oedema', 'Oral Lesions', 'Solitary Lesion', 'Swollen Tonsils',\n",
       "       'HIV Infection', 'Age', 'Sexually Transmitted Infection',\n",
       "       'MPOX PCR Result'],\n",
       "      dtype='object')"
      ]
     },
     "execution_count": 121,
     "metadata": {},
     "output_type": "execute_result"
    }
   ],
   "source": [
    "#Import the required libraries\n",
    "import pandas as pd\n",
    "import matplotlib.pyplot as plt\n",
    "import seaborn as sns #Python data visualization library form matplotlib\n",
    "\n",
    "#Set Pandas Options\n",
    "pd.set_option('display.max_columns', None)\n",
    "#pd.set_option('display.max_rows', None)\n",
    "\n",
    "#---Comment this section after the full implementation---\n",
    "#Load the dataset\n",
    "#df_monkey_pox_full = pd.read_csv('monkeypox_dataset.csv')\n",
    "\n",
    "#List down all the columns\n",
    "#df_monkey_pox_full.columns\n",
    "\n",
    "#--Uncomment the code after the full implementation---\n",
    "# Load specific columns with optional with statement\n",
    "# I am only able to optimize the loading with the following code\n",
    "# since I have previously load all the data and identified what is needed for calculation\n",
    "# also Test ID needs to be dropped before the data split\n",
    "with open('monkeypox_dataset.csv', 'r') as csvfile:\n",
    "    df_monkey_pox = pd.read_csv(csvfile, usecols=[\n",
    "        'Test ID',\n",
    "        'Encoded Systemic Illness',\n",
    "        'Rectal Pain',\n",
    "        'Sore Throat',\n",
    "        'Penile Oedema', \n",
    "        'Oral Lesions',\n",
    "        'Solitary Lesion', \n",
    "        'Swollen Tonsils',\n",
    "        'Age',\n",
    "        'HIV Infection',\n",
    "        'Sexually Transmitted Infection', \n",
    "        'MPOX PCR Result'\n",
    "        ])\n",
    "    \n",
    "#List down loaded columns to verify\n",
    "df_monkey_pox.columns"
   ]
  },
  {
   "cell_type": "code",
   "execution_count": 35,
   "id": "9d469e9c-7ee1-405f-a244-5718c753d197",
   "metadata": {},
   "outputs": [
    {
     "data": {
      "text/html": [
       "<div>\n",
       "<style scoped>\n",
       "    .dataframe tbody tr th:only-of-type {\n",
       "        vertical-align: middle;\n",
       "    }\n",
       "\n",
       "    .dataframe tbody tr th {\n",
       "        vertical-align: top;\n",
       "    }\n",
       "\n",
       "    .dataframe thead th {\n",
       "        text-align: right;\n",
       "    }\n",
       "</style>\n",
       "<table border=\"1\" class=\"dataframe\">\n",
       "  <thead>\n",
       "    <tr style=\"text-align: right;\">\n",
       "      <th></th>\n",
       "      <th>Test ID</th>\n",
       "      <th>Encoded Systemic Illness</th>\n",
       "      <th>Rectal Pain</th>\n",
       "      <th>Sore Throat</th>\n",
       "      <th>Penile Oedema</th>\n",
       "      <th>Oral Lesions</th>\n",
       "      <th>Solitary Lesion</th>\n",
       "      <th>Swollen Tonsils</th>\n",
       "      <th>HIV Infection</th>\n",
       "      <th>Age</th>\n",
       "      <th>Sexually Transmitted Infection</th>\n",
       "      <th>MPOX PCR Result</th>\n",
       "    </tr>\n",
       "  </thead>\n",
       "  <tbody>\n",
       "    <tr>\n",
       "      <th>0</th>\n",
       "      <td>AA0021</td>\n",
       "      <td>0.0</td>\n",
       "      <td>0.0</td>\n",
       "      <td>1</td>\n",
       "      <td>1.0</td>\n",
       "      <td>1</td>\n",
       "      <td>0</td>\n",
       "      <td>1.0</td>\n",
       "      <td>0.0</td>\n",
       "      <td>37</td>\n",
       "      <td>0.0</td>\n",
       "      <td>Negative</td>\n",
       "    </tr>\n",
       "    <tr>\n",
       "      <th>1</th>\n",
       "      <td>AA0022</td>\n",
       "      <td>1.0</td>\n",
       "      <td>1.0</td>\n",
       "      <td>0</td>\n",
       "      <td>1.0</td>\n",
       "      <td>1</td>\n",
       "      <td>0</td>\n",
       "      <td>0.0</td>\n",
       "      <td>1.0</td>\n",
       "      <td>24</td>\n",
       "      <td>0.0</td>\n",
       "      <td>Positive</td>\n",
       "    </tr>\n",
       "    <tr>\n",
       "      <th>2</th>\n",
       "      <td>AA0023</td>\n",
       "      <td>1.0</td>\n",
       "      <td>0.0</td>\n",
       "      <td>1</td>\n",
       "      <td>1.0</td>\n",
       "      <td>0</td>\n",
       "      <td>0</td>\n",
       "      <td>0.0</td>\n",
       "      <td>1.0</td>\n",
       "      <td>34</td>\n",
       "      <td>0.0</td>\n",
       "      <td>Positive</td>\n",
       "    </tr>\n",
       "    <tr>\n",
       "      <th>3</th>\n",
       "      <td>AA0024</td>\n",
       "      <td>0.0</td>\n",
       "      <td>1.0</td>\n",
       "      <td>0</td>\n",
       "      <td>0.0</td>\n",
       "      <td>0</td>\n",
       "      <td>1</td>\n",
       "      <td>1.0</td>\n",
       "      <td>1.0</td>\n",
       "      <td>40</td>\n",
       "      <td>0.0</td>\n",
       "      <td>Positive</td>\n",
       "    </tr>\n",
       "    <tr>\n",
       "      <th>4</th>\n",
       "      <td>AA0025</td>\n",
       "      <td>3.0</td>\n",
       "      <td>1.0</td>\n",
       "      <td>1</td>\n",
       "      <td>1.0</td>\n",
       "      <td>0</td>\n",
       "      <td>0</td>\n",
       "      <td>1.0</td>\n",
       "      <td>1.0</td>\n",
       "      <td>36</td>\n",
       "      <td>0.0</td>\n",
       "      <td>Positive</td>\n",
       "    </tr>\n",
       "    <tr>\n",
       "      <th>...</th>\n",
       "      <td>...</td>\n",
       "      <td>...</td>\n",
       "      <td>...</td>\n",
       "      <td>...</td>\n",
       "      <td>...</td>\n",
       "      <td>...</td>\n",
       "      <td>...</td>\n",
       "      <td>...</td>\n",
       "      <td>...</td>\n",
       "      <td>...</td>\n",
       "      <td>...</td>\n",
       "      <td>...</td>\n",
       "    </tr>\n",
       "    <tr>\n",
       "      <th>24995</th>\n",
       "      <td>AH33692</td>\n",
       "      <td>0.0</td>\n",
       "      <td>1.0</td>\n",
       "      <td>1</td>\n",
       "      <td>0.0</td>\n",
       "      <td>1</td>\n",
       "      <td>1</td>\n",
       "      <td>0.0</td>\n",
       "      <td>0.0</td>\n",
       "      <td>56</td>\n",
       "      <td>1.0</td>\n",
       "      <td>Positive</td>\n",
       "    </tr>\n",
       "    <tr>\n",
       "      <th>24996</th>\n",
       "      <td>AH33693</td>\n",
       "      <td>1.0</td>\n",
       "      <td>0.0</td>\n",
       "      <td>1</td>\n",
       "      <td>1.0</td>\n",
       "      <td>0</td>\n",
       "      <td>1</td>\n",
       "      <td>1.0</td>\n",
       "      <td>1.0</td>\n",
       "      <td>50</td>\n",
       "      <td>1.0</td>\n",
       "      <td>Positive</td>\n",
       "    </tr>\n",
       "    <tr>\n",
       "      <th>24997</th>\n",
       "      <td>AH33694</td>\n",
       "      <td>0.0</td>\n",
       "      <td>1.0</td>\n",
       "      <td>1</td>\n",
       "      <td>0.0</td>\n",
       "      <td>0</td>\n",
       "      <td>1</td>\n",
       "      <td>1.0</td>\n",
       "      <td>0.0</td>\n",
       "      <td>24</td>\n",
       "      <td>0.0</td>\n",
       "      <td>Positive</td>\n",
       "    </tr>\n",
       "    <tr>\n",
       "      <th>24998</th>\n",
       "      <td>AH33695</td>\n",
       "      <td>3.0</td>\n",
       "      <td>0.0</td>\n",
       "      <td>1</td>\n",
       "      <td>0.0</td>\n",
       "      <td>1</td>\n",
       "      <td>1</td>\n",
       "      <td>1.0</td>\n",
       "      <td>0.0</td>\n",
       "      <td>56</td>\n",
       "      <td>0.0</td>\n",
       "      <td>Negative</td>\n",
       "    </tr>\n",
       "    <tr>\n",
       "      <th>24999</th>\n",
       "      <td>AH33696</td>\n",
       "      <td>3.0</td>\n",
       "      <td>0.0</td>\n",
       "      <td>0</td>\n",
       "      <td>1.0</td>\n",
       "      <td>0</td>\n",
       "      <td>0</td>\n",
       "      <td>1.0</td>\n",
       "      <td>1.0</td>\n",
       "      <td>47</td>\n",
       "      <td>0.0</td>\n",
       "      <td>Positive</td>\n",
       "    </tr>\n",
       "  </tbody>\n",
       "</table>\n",
       "<p>25000 rows × 12 columns</p>\n",
       "</div>"
      ],
      "text/plain": [
       "       Test ID  Encoded Systemic Illness  Rectal Pain  Sore Throat  \\\n",
       "0       AA0021                       0.0          0.0            1   \n",
       "1       AA0022                       1.0          1.0            0   \n",
       "2       AA0023                       1.0          0.0            1   \n",
       "3       AA0024                       0.0          1.0            0   \n",
       "4       AA0025                       3.0          1.0            1   \n",
       "...        ...                       ...          ...          ...   \n",
       "24995  AH33692                       0.0          1.0            1   \n",
       "24996  AH33693                       1.0          0.0            1   \n",
       "24997  AH33694                       0.0          1.0            1   \n",
       "24998  AH33695                       3.0          0.0            1   \n",
       "24999  AH33696                       3.0          0.0            0   \n",
       "\n",
       "       Penile Oedema Oral Lesions  Solitary Lesion  Swollen Tonsils  \\\n",
       "0                1.0            1                0              1.0   \n",
       "1                1.0            1                0              0.0   \n",
       "2                1.0            0                0              0.0   \n",
       "3                0.0            0                1              1.0   \n",
       "4                1.0            0                0              1.0   \n",
       "...              ...          ...              ...              ...   \n",
       "24995            0.0            1                1              0.0   \n",
       "24996            1.0            0                1              1.0   \n",
       "24997            0.0            0                1              1.0   \n",
       "24998            0.0            1                1              1.0   \n",
       "24999            1.0            0                0              1.0   \n",
       "\n",
       "       HIV Infection Age  Sexually Transmitted Infection MPOX PCR Result  \n",
       "0                0.0  37                             0.0        Negative  \n",
       "1                1.0  24                             0.0        Positive  \n",
       "2                1.0  34                             0.0        Positive  \n",
       "3                1.0  40                             0.0        Positive  \n",
       "4                1.0  36                             0.0        Positive  \n",
       "...              ...  ..                             ...             ...  \n",
       "24995            0.0  56                             1.0        Positive  \n",
       "24996            1.0  50                             1.0        Positive  \n",
       "24997            0.0  24                             0.0        Positive  \n",
       "24998            0.0  56                             0.0        Negative  \n",
       "24999            1.0  47                             0.0        Positive  \n",
       "\n",
       "[25000 rows x 12 columns]"
      ]
     },
     "metadata": {},
     "output_type": "display_data"
    }
   ],
   "source": [
    "display(df_monkey_pox)"
   ]
  },
  {
   "cell_type": "markdown",
   "id": "34db699c",
   "metadata": {},
   "source": [
    "# Task 02: Basic Statistical Description"
   ]
  },
  {
   "cell_type": "code",
   "execution_count": 122,
   "id": "3e828248-138b-4acf-89e6-c285338b9b71",
   "metadata": {},
   "outputs": [
    {
     "data": {
      "text/html": [
       "<div>\n",
       "<style scoped>\n",
       "    .dataframe tbody tr th:only-of-type {\n",
       "        vertical-align: middle;\n",
       "    }\n",
       "\n",
       "    .dataframe tbody tr th {\n",
       "        vertical-align: top;\n",
       "    }\n",
       "\n",
       "    .dataframe thead th {\n",
       "        text-align: right;\n",
       "    }\n",
       "</style>\n",
       "<table border=\"1\" class=\"dataframe\">\n",
       "  <thead>\n",
       "    <tr style=\"text-align: right;\">\n",
       "      <th></th>\n",
       "      <th>Encoded Systemic Illness</th>\n",
       "      <th>Rectal Pain</th>\n",
       "      <th>Sore Throat</th>\n",
       "      <th>Penile Oedema</th>\n",
       "      <th>Solitary Lesion</th>\n",
       "      <th>Swollen Tonsils</th>\n",
       "      <th>HIV Infection</th>\n",
       "      <th>Sexually Transmitted Infection</th>\n",
       "    </tr>\n",
       "  </thead>\n",
       "  <tbody>\n",
       "    <tr>\n",
       "      <th>count</th>\n",
       "      <td>24998.000000</td>\n",
       "      <td>24997.000000</td>\n",
       "      <td>25000.000000</td>\n",
       "      <td>24994.000000</td>\n",
       "      <td>25000.000000</td>\n",
       "      <td>24993.000000</td>\n",
       "      <td>24995.000000</td>\n",
       "      <td>24996.000000</td>\n",
       "    </tr>\n",
       "    <tr>\n",
       "      <th>mean</th>\n",
       "      <td>1.497640</td>\n",
       "      <td>0.493819</td>\n",
       "      <td>0.502160</td>\n",
       "      <td>0.504441</td>\n",
       "      <td>0.501080</td>\n",
       "      <td>0.501260</td>\n",
       "      <td>0.503301</td>\n",
       "      <td>0.497880</td>\n",
       "    </tr>\n",
       "    <tr>\n",
       "      <th>std</th>\n",
       "      <td>1.116872</td>\n",
       "      <td>0.499972</td>\n",
       "      <td>0.500005</td>\n",
       "      <td>0.499990</td>\n",
       "      <td>0.500009</td>\n",
       "      <td>0.500008</td>\n",
       "      <td>0.499999</td>\n",
       "      <td>0.500006</td>\n",
       "    </tr>\n",
       "    <tr>\n",
       "      <th>min</th>\n",
       "      <td>0.000000</td>\n",
       "      <td>0.000000</td>\n",
       "      <td>0.000000</td>\n",
       "      <td>0.000000</td>\n",
       "      <td>0.000000</td>\n",
       "      <td>0.000000</td>\n",
       "      <td>0.000000</td>\n",
       "      <td>0.000000</td>\n",
       "    </tr>\n",
       "    <tr>\n",
       "      <th>25%</th>\n",
       "      <td>1.000000</td>\n",
       "      <td>0.000000</td>\n",
       "      <td>0.000000</td>\n",
       "      <td>0.000000</td>\n",
       "      <td>0.000000</td>\n",
       "      <td>0.000000</td>\n",
       "      <td>0.000000</td>\n",
       "      <td>0.000000</td>\n",
       "    </tr>\n",
       "    <tr>\n",
       "      <th>50%</th>\n",
       "      <td>1.000000</td>\n",
       "      <td>0.000000</td>\n",
       "      <td>1.000000</td>\n",
       "      <td>1.000000</td>\n",
       "      <td>1.000000</td>\n",
       "      <td>1.000000</td>\n",
       "      <td>1.000000</td>\n",
       "      <td>0.000000</td>\n",
       "    </tr>\n",
       "    <tr>\n",
       "      <th>75%</th>\n",
       "      <td>3.000000</td>\n",
       "      <td>1.000000</td>\n",
       "      <td>1.000000</td>\n",
       "      <td>1.000000</td>\n",
       "      <td>1.000000</td>\n",
       "      <td>1.000000</td>\n",
       "      <td>1.000000</td>\n",
       "      <td>1.000000</td>\n",
       "    </tr>\n",
       "    <tr>\n",
       "      <th>max</th>\n",
       "      <td>3.000000</td>\n",
       "      <td>1.000000</td>\n",
       "      <td>1.000000</td>\n",
       "      <td>1.000000</td>\n",
       "      <td>1.000000</td>\n",
       "      <td>1.000000</td>\n",
       "      <td>1.000000</td>\n",
       "      <td>1.000000</td>\n",
       "    </tr>\n",
       "  </tbody>\n",
       "</table>\n",
       "</div>"
      ],
      "text/plain": [
       "       Encoded Systemic Illness   Rectal Pain   Sore Throat  Penile Oedema  \\\n",
       "count              24998.000000  24997.000000  25000.000000   24994.000000   \n",
       "mean                   1.497640      0.493819      0.502160       0.504441   \n",
       "std                    1.116872      0.499972      0.500005       0.499990   \n",
       "min                    0.000000      0.000000      0.000000       0.000000   \n",
       "25%                    1.000000      0.000000      0.000000       0.000000   \n",
       "50%                    1.000000      0.000000      1.000000       1.000000   \n",
       "75%                    3.000000      1.000000      1.000000       1.000000   \n",
       "max                    3.000000      1.000000      1.000000       1.000000   \n",
       "\n",
       "       Solitary Lesion  Swollen Tonsils  HIV Infection  \\\n",
       "count     25000.000000     24993.000000   24995.000000   \n",
       "mean          0.501080         0.501260       0.503301   \n",
       "std           0.500009         0.500008       0.499999   \n",
       "min           0.000000         0.000000       0.000000   \n",
       "25%           0.000000         0.000000       0.000000   \n",
       "50%           1.000000         1.000000       1.000000   \n",
       "75%           1.000000         1.000000       1.000000   \n",
       "max           1.000000         1.000000       1.000000   \n",
       "\n",
       "       Sexually Transmitted Infection  \n",
       "count                    24996.000000  \n",
       "mean                         0.497880  \n",
       "std                          0.500006  \n",
       "min                          0.000000  \n",
       "25%                          0.000000  \n",
       "50%                          0.000000  \n",
       "75%                          1.000000  \n",
       "max                          1.000000  "
      ]
     },
     "metadata": {},
     "output_type": "display_data"
    }
   ],
   "source": [
    "#Basic Statistical Description\n",
    "#description = df_monkey_pox.describe(include='all')\n",
    "description = df_monkey_pox.describe()\n",
    "display(description)"
   ]
  },
  {
   "cell_type": "code",
   "execution_count": 123,
   "id": "146faf05-63b1-43c6-b08e-b2806aa3cd6f",
   "metadata": {},
   "outputs": [
    {
     "data": {
      "text/plain": [
       "Test ID                            object\n",
       "Encoded Systemic Illness          float64\n",
       "Rectal Pain                       float64\n",
       "Sore Throat                         int64\n",
       "Penile Oedema                     float64\n",
       "Oral Lesions                       object\n",
       "Solitary Lesion                     int64\n",
       "Swollen Tonsils                   float64\n",
       "HIV Infection                     float64\n",
       "Age                                object\n",
       "Sexually Transmitted Infection    float64\n",
       "MPOX PCR Result                    object\n",
       "dtype: object"
      ]
     },
     "metadata": {},
     "output_type": "display_data"
    }
   ],
   "source": [
    "#Measurement Scale Type\n",
    "measurement_scale = df_monkey_pox.dtypes\n",
    "display(measurement_scale)"
   ]
  },
  {
   "cell_type": "code",
   "execution_count": 124,
   "id": "03cb478f",
   "metadata": {},
   "outputs": [
    {
     "name": "stdout",
     "output_type": "stream",
     "text": [
      "<class 'pandas.core.frame.DataFrame'>\n",
      "RangeIndex: 25000 entries, 0 to 24999\n",
      "Data columns (total 12 columns):\n",
      " #   Column                          Non-Null Count  Dtype  \n",
      "---  ------                          --------------  -----  \n",
      " 0   Test ID                         25000 non-null  object \n",
      " 1   Encoded Systemic Illness        24998 non-null  float64\n",
      " 2   Rectal Pain                     24997 non-null  float64\n",
      " 3   Sore Throat                     25000 non-null  int64  \n",
      " 4   Penile Oedema                   24994 non-null  float64\n",
      " 5   Oral Lesions                    24996 non-null  object \n",
      " 6   Solitary Lesion                 25000 non-null  int64  \n",
      " 7   Swollen Tonsils                 24993 non-null  float64\n",
      " 8   HIV Infection                   24995 non-null  float64\n",
      " 9   Age                             24964 non-null  object \n",
      " 10  Sexually Transmitted Infection  24996 non-null  float64\n",
      " 11  MPOX PCR Result                 25000 non-null  object \n",
      "dtypes: float64(6), int64(2), object(4)\n",
      "memory usage: 2.3+ MB\n"
     ]
    }
   ],
   "source": [
    "df_monkey_pox.info()"
   ]
  },
  {
   "cell_type": "code",
   "execution_count": 125,
   "id": "29f02b20-38b1-4382-ba56-7e487723349c",
   "metadata": {},
   "outputs": [
    {
     "data": {
      "image/png": "[encoded data removed]",
      "text/plain": [
       "<Figure size 640x480 with 1 Axes>"
      ]
     },
     "metadata": {},
     "output_type": "display_data"
    }
   ],
   "source": [
    "#Plot the distribution of class variables\n",
    "sns.countplot(x = 'MPOX PCR Result', data=df_monkey_pox)\n",
    "plt.xlabel('MPOX PCR Result')\n",
    "plt.ylabel('Count')\n",
    "plt.title('Distribution of PCR Test Result')\n",
    "plt.show()"
   ]
  },
  {
   "cell_type": "code",
   "execution_count": 12,
   "id": "ba3cdd7d",
   "metadata": {},
   "outputs": [
    {
     "data": {
      "text/plain": [
       "array([[<Axes: title={'center': 'Encoded Systemic Illness'}>,\n",
       "        <Axes: title={'center': 'Rectal Pain'}>,\n",
       "        <Axes: title={'center': 'Sore Throat'}>],\n",
       "       [<Axes: title={'center': 'Penile Oedema'}>,\n",
       "        <Axes: title={'center': 'Solitary Lesion'}>,\n",
       "        <Axes: title={'center': 'Swollen Tonsils'}>],\n",
       "       [<Axes: title={'center': 'HIV Infection'}>,\n",
       "        <Axes: title={'center': 'Sexually Transmitted Infection'}>,\n",
       "        <Axes: >]], dtype=object)"
      ]
     },
     "execution_count": 12,
     "metadata": {},
     "output_type": "execute_result"
    },
    {
     "data": {
      "image/png": "[encoded data removed]",
      "text/plain": [
       "<Figure size 2000x2000 with 9 Axes>"
      ]
     },
     "metadata": {},
     "output_type": "display_data"
    }
   ],
   "source": [
    "df_monkey_pox.hist(bins = 60, figsize = (20,20))"
   ]
  },
  {
   "cell_type": "markdown",
   "id": "9c849807",
   "metadata": {},
   "source": [
    "# Task 03: Identifying and Fixing the Variable Issues"
   ]
  },
  {
   "cell_type": "code",
   "execution_count": 151,
   "id": "0048d847",
   "metadata": {},
   "outputs": [
    {
     "name": "stdout",
     "output_type": "stream",
     "text": [
      "Duplicate Values in the dataset:  0\n"
     ]
    }
   ],
   "source": [
    "duplicates = df_monkey_pox.duplicated().sum()\n",
    "print('Duplicate Values in the dataset: ', duplicates)"
   ]
  },
  {
   "cell_type": "code",
   "execution_count": 152,
   "id": "d1393920",
   "metadata": {},
   "outputs": [
    {
     "data": {
      "text/plain": [
       "Test ID                           0\n",
       "Encoded Systemic Illness          0\n",
       "Rectal Pain                       0\n",
       "Sore Throat                       0\n",
       "Penile Oedema                     0\n",
       "Oral Lesions                      0\n",
       "Solitary Lesion                   0\n",
       "Swollen Tonsils                   0\n",
       "HIV Infection                     0\n",
       "Age                               0\n",
       "Sexually Transmitted Infection    0\n",
       "MPOX PCR Result                   0\n",
       "dtype: int64"
      ]
     },
     "execution_count": 152,
     "metadata": {},
     "output_type": "execute_result"
    }
   ],
   "source": [
    "df_monkey_pox.isna().sum()"
   ]
  },
  {
   "cell_type": "code",
   "execution_count": 153,
   "id": "8fd9ba53",
   "metadata": {},
   "outputs": [
    {
     "data": {
      "text/plain": [
       "Test ID                           0\n",
       "Encoded Systemic Illness          0\n",
       "Rectal Pain                       0\n",
       "Sore Throat                       0\n",
       "Penile Oedema                     0\n",
       "Oral Lesions                      0\n",
       "Solitary Lesion                   0\n",
       "Swollen Tonsils                   0\n",
       "HIV Infection                     0\n",
       "Age                               0\n",
       "Sexually Transmitted Infection    0\n",
       "MPOX PCR Result                   0\n",
       "dtype: int64"
      ]
     },
     "execution_count": 153,
     "metadata": {},
     "output_type": "execute_result"
    }
   ],
   "source": [
    "df_monkey_pox.isnull().sum()"
   ]
  },
  {
   "cell_type": "code",
   "execution_count": 154,
   "id": "fe1d2345",
   "metadata": {},
   "outputs": [
    {
     "name": "stdout",
     "output_type": "stream",
     "text": [
      "<class 'pandas.core.frame.DataFrame'>\n",
      "Index: 24996 entries, 0 to 24999\n",
      "Data columns (total 12 columns):\n",
      " #   Column                          Non-Null Count  Dtype  \n",
      "---  ------                          --------------  -----  \n",
      " 0   Test ID                         24996 non-null  object \n",
      " 1   Encoded Systemic Illness        24996 non-null  float64\n",
      " 2   Rectal Pain                     24996 non-null  float64\n",
      " 3   Sore Throat                     24996 non-null  int64  \n",
      " 4   Penile Oedema                   24996 non-null  float64\n",
      " 5   Oral Lesions                    24996 non-null  object \n",
      " 6   Solitary Lesion                 24996 non-null  int64  \n",
      " 7   Swollen Tonsils                 24996 non-null  float64\n",
      " 8   HIV Infection                   24996 non-null  float64\n",
      " 9   Age                             24996 non-null  float64\n",
      " 10  Sexually Transmitted Infection  24996 non-null  float64\n",
      " 11  MPOX PCR Result                 24996 non-null  object \n",
      "dtypes: float64(7), int64(2), object(3)\n",
      "memory usage: 2.5+ MB\n"
     ]
    }
   ],
   "source": [
    "df_monkey_pox.info()"
   ]
  },
  {
   "cell_type": "markdown",
   "id": "cce107b4",
   "metadata": {},
   "source": [
    "### Fixing all the missing values using most frequent value"
   ]
  },
  {
   "cell_type": "code",
   "execution_count": 155,
   "id": "eda6448a",
   "metadata": {},
   "outputs": [
    {
     "data": {
      "text/html": [
       "<div>\n",
       "<style scoped>\n",
       "    .dataframe tbody tr th:only-of-type {\n",
       "        vertical-align: middle;\n",
       "    }\n",
       "\n",
       "    .dataframe tbody tr th {\n",
       "        vertical-align: top;\n",
       "    }\n",
       "\n",
       "    .dataframe thead th {\n",
       "        text-align: right;\n",
       "    }\n",
       "</style>\n",
       "<table border=\"1\" class=\"dataframe\">\n",
       "  <thead>\n",
       "    <tr style=\"text-align: right;\">\n",
       "      <th></th>\n",
       "      <th>Test ID</th>\n",
       "      <th>Encoded Systemic Illness</th>\n",
       "      <th>Rectal Pain</th>\n",
       "      <th>Sore Throat</th>\n",
       "      <th>Penile Oedema</th>\n",
       "      <th>Oral Lesions</th>\n",
       "      <th>Solitary Lesion</th>\n",
       "      <th>Swollen Tonsils</th>\n",
       "      <th>HIV Infection</th>\n",
       "      <th>Age</th>\n",
       "      <th>Sexually Transmitted Infection</th>\n",
       "      <th>MPOX PCR Result</th>\n",
       "    </tr>\n",
       "  </thead>\n",
       "  <tbody>\n",
       "    <tr>\n",
       "      <th>0</th>\n",
       "      <td>AA0021</td>\n",
       "      <td>0.0</td>\n",
       "      <td>0.0</td>\n",
       "      <td>1</td>\n",
       "      <td>1.0</td>\n",
       "      <td>1</td>\n",
       "      <td>0</td>\n",
       "      <td>1.0</td>\n",
       "      <td>0.0</td>\n",
       "      <td>37.0</td>\n",
       "      <td>0.0</td>\n",
       "      <td>Negative</td>\n",
       "    </tr>\n",
       "    <tr>\n",
       "      <th>1</th>\n",
       "      <td>AA0022</td>\n",
       "      <td>1.0</td>\n",
       "      <td>1.0</td>\n",
       "      <td>0</td>\n",
       "      <td>1.0</td>\n",
       "      <td>1</td>\n",
       "      <td>0</td>\n",
       "      <td>0.0</td>\n",
       "      <td>1.0</td>\n",
       "      <td>24.0</td>\n",
       "      <td>0.0</td>\n",
       "      <td>Positive</td>\n",
       "    </tr>\n",
       "    <tr>\n",
       "      <th>2</th>\n",
       "      <td>AA0023</td>\n",
       "      <td>1.0</td>\n",
       "      <td>0.0</td>\n",
       "      <td>1</td>\n",
       "      <td>1.0</td>\n",
       "      <td>0</td>\n",
       "      <td>0</td>\n",
       "      <td>0.0</td>\n",
       "      <td>1.0</td>\n",
       "      <td>34.0</td>\n",
       "      <td>0.0</td>\n",
       "      <td>Positive</td>\n",
       "    </tr>\n",
       "    <tr>\n",
       "      <th>3</th>\n",
       "      <td>AA0024</td>\n",
       "      <td>0.0</td>\n",
       "      <td>1.0</td>\n",
       "      <td>0</td>\n",
       "      <td>0.0</td>\n",
       "      <td>0</td>\n",
       "      <td>1</td>\n",
       "      <td>1.0</td>\n",
       "      <td>1.0</td>\n",
       "      <td>40.0</td>\n",
       "      <td>0.0</td>\n",
       "      <td>Positive</td>\n",
       "    </tr>\n",
       "    <tr>\n",
       "      <th>4</th>\n",
       "      <td>AA0025</td>\n",
       "      <td>3.0</td>\n",
       "      <td>1.0</td>\n",
       "      <td>1</td>\n",
       "      <td>1.0</td>\n",
       "      <td>0</td>\n",
       "      <td>0</td>\n",
       "      <td>1.0</td>\n",
       "      <td>1.0</td>\n",
       "      <td>36.0</td>\n",
       "      <td>0.0</td>\n",
       "      <td>Positive</td>\n",
       "    </tr>\n",
       "    <tr>\n",
       "      <th>...</th>\n",
       "      <td>...</td>\n",
       "      <td>...</td>\n",
       "      <td>...</td>\n",
       "      <td>...</td>\n",
       "      <td>...</td>\n",
       "      <td>...</td>\n",
       "      <td>...</td>\n",
       "      <td>...</td>\n",
       "      <td>...</td>\n",
       "      <td>...</td>\n",
       "      <td>...</td>\n",
       "      <td>...</td>\n",
       "    </tr>\n",
       "    <tr>\n",
       "      <th>24995</th>\n",
       "      <td>AH33692</td>\n",
       "      <td>0.0</td>\n",
       "      <td>1.0</td>\n",
       "      <td>1</td>\n",
       "      <td>0.0</td>\n",
       "      <td>1</td>\n",
       "      <td>1</td>\n",
       "      <td>0.0</td>\n",
       "      <td>0.0</td>\n",
       "      <td>56.0</td>\n",
       "      <td>1.0</td>\n",
       "      <td>Positive</td>\n",
       "    </tr>\n",
       "    <tr>\n",
       "      <th>24996</th>\n",
       "      <td>AH33693</td>\n",
       "      <td>1.0</td>\n",
       "      <td>0.0</td>\n",
       "      <td>1</td>\n",
       "      <td>1.0</td>\n",
       "      <td>0</td>\n",
       "      <td>1</td>\n",
       "      <td>1.0</td>\n",
       "      <td>1.0</td>\n",
       "      <td>50.0</td>\n",
       "      <td>1.0</td>\n",
       "      <td>Positive</td>\n",
       "    </tr>\n",
       "    <tr>\n",
       "      <th>24997</th>\n",
       "      <td>AH33694</td>\n",
       "      <td>0.0</td>\n",
       "      <td>1.0</td>\n",
       "      <td>1</td>\n",
       "      <td>0.0</td>\n",
       "      <td>0</td>\n",
       "      <td>1</td>\n",
       "      <td>1.0</td>\n",
       "      <td>0.0</td>\n",
       "      <td>24.0</td>\n",
       "      <td>0.0</td>\n",
       "      <td>Positive</td>\n",
       "    </tr>\n",
       "    <tr>\n",
       "      <th>24998</th>\n",
       "      <td>AH33695</td>\n",
       "      <td>3.0</td>\n",
       "      <td>0.0</td>\n",
       "      <td>1</td>\n",
       "      <td>0.0</td>\n",
       "      <td>1</td>\n",
       "      <td>1</td>\n",
       "      <td>1.0</td>\n",
       "      <td>0.0</td>\n",
       "      <td>56.0</td>\n",
       "      <td>0.0</td>\n",
       "      <td>Negative</td>\n",
       "    </tr>\n",
       "    <tr>\n",
       "      <th>24999</th>\n",
       "      <td>AH33696</td>\n",
       "      <td>3.0</td>\n",
       "      <td>0.0</td>\n",
       "      <td>0</td>\n",
       "      <td>1.0</td>\n",
       "      <td>0</td>\n",
       "      <td>0</td>\n",
       "      <td>1.0</td>\n",
       "      <td>1.0</td>\n",
       "      <td>47.0</td>\n",
       "      <td>0.0</td>\n",
       "      <td>Positive</td>\n",
       "    </tr>\n",
       "  </tbody>\n",
       "</table>\n",
       "<p>24996 rows × 12 columns</p>\n",
       "</div>"
      ],
      "text/plain": [
       "       Test ID  Encoded Systemic Illness  Rectal Pain  Sore Throat  \\\n",
       "0       AA0021                       0.0          0.0            1   \n",
       "1       AA0022                       1.0          1.0            0   \n",
       "2       AA0023                       1.0          0.0            1   \n",
       "3       AA0024                       0.0          1.0            0   \n",
       "4       AA0025                       3.0          1.0            1   \n",
       "...        ...                       ...          ...          ...   \n",
       "24995  AH33692                       0.0          1.0            1   \n",
       "24996  AH33693                       1.0          0.0            1   \n",
       "24997  AH33694                       0.0          1.0            1   \n",
       "24998  AH33695                       3.0          0.0            1   \n",
       "24999  AH33696                       3.0          0.0            0   \n",
       "\n",
       "       Penile Oedema Oral Lesions  Solitary Lesion  Swollen Tonsils  \\\n",
       "0                1.0            1                0              1.0   \n",
       "1                1.0            1                0              0.0   \n",
       "2                1.0            0                0              0.0   \n",
       "3                0.0            0                1              1.0   \n",
       "4                1.0            0                0              1.0   \n",
       "...              ...          ...              ...              ...   \n",
       "24995            0.0            1                1              0.0   \n",
       "24996            1.0            0                1              1.0   \n",
       "24997            0.0            0                1              1.0   \n",
       "24998            0.0            1                1              1.0   \n",
       "24999            1.0            0                0              1.0   \n",
       "\n",
       "       HIV Infection   Age  Sexually Transmitted Infection MPOX PCR Result  \n",
       "0                0.0  37.0                             0.0        Negative  \n",
       "1                1.0  24.0                             0.0        Positive  \n",
       "2                1.0  34.0                             0.0        Positive  \n",
       "3                1.0  40.0                             0.0        Positive  \n",
       "4                1.0  36.0                             0.0        Positive  \n",
       "...              ...   ...                             ...             ...  \n",
       "24995            0.0  56.0                             1.0        Positive  \n",
       "24996            1.0  50.0                             1.0        Positive  \n",
       "24997            0.0  24.0                             0.0        Positive  \n",
       "24998            0.0  56.0                             0.0        Negative  \n",
       "24999            1.0  47.0                             0.0        Positive  \n",
       "\n",
       "[24996 rows x 12 columns]"
      ]
     },
     "metadata": {},
     "output_type": "display_data"
    }
   ],
   "source": [
    "from sklearn.impute import SimpleImputer\n",
    "\n",
    "# Create the imputer\n",
    "imputer = SimpleImputer(strategy=\"most_frequent\")\n",
    "\n",
    "# Fit the imputer on all columns except the target variable (assuming no target yet)\n",
    "imputer.fit(df_monkey_pox)\n",
    "\n",
    "# Transform the DataFrame to impute missing values\n",
    "for col in df_monkey_pox.columns:\n",
    "    # Convert column to NumPy array, impute, and assign back to DataFrame\n",
    "    df_monkey_pox[col] = imputer.fit_transform(df_monkey_pox[[col]])[:, 0]\n",
    "\n",
    "display(df_monkey_pox)"
   ]
  },
  {
   "cell_type": "code",
   "execution_count": 156,
   "id": "2d1af579",
   "metadata": {},
   "outputs": [
    {
     "data": {
      "text/plain": [
       "Test ID                           0\n",
       "Encoded Systemic Illness          0\n",
       "Rectal Pain                       0\n",
       "Sore Throat                       0\n",
       "Penile Oedema                     0\n",
       "Oral Lesions                      0\n",
       "Solitary Lesion                   0\n",
       "Swollen Tonsils                   0\n",
       "HIV Infection                     0\n",
       "Age                               0\n",
       "Sexually Transmitted Infection    0\n",
       "MPOX PCR Result                   0\n",
       "dtype: int64"
      ]
     },
     "execution_count": 156,
     "metadata": {},
     "output_type": "execute_result"
    }
   ],
   "source": [
    "df_monkey_pox.isna().sum()"
   ]
  },
  {
   "cell_type": "markdown",
   "id": "4d53133e",
   "metadata": {},
   "source": [
    "### Fixing the Oral Lesions Yes/No Values by replacing with 1/0"
   ]
  },
  {
   "cell_type": "code",
   "execution_count": 157,
   "id": "e0e74869",
   "metadata": {},
   "outputs": [
    {
     "data": {
      "text/plain": [
       "Oral Lesions\n",
       "0     12504\n",
       "1     12481\n",
       "No        7\n",
       "1         4\n",
       "Name: count, dtype: int64"
      ]
     },
     "execution_count": 157,
     "metadata": {},
     "output_type": "execute_result"
    }
   ],
   "source": [
    "df_monkey_pox['Oral Lesions'].value_counts()"
   ]
  },
  {
   "cell_type": "code",
   "execution_count": 158,
   "id": "68e2f188",
   "metadata": {},
   "outputs": [
    {
     "data": {
      "text/html": [
       "<div>\n",
       "<style scoped>\n",
       "    .dataframe tbody tr th:only-of-type {\n",
       "        vertical-align: middle;\n",
       "    }\n",
       "\n",
       "    .dataframe tbody tr th {\n",
       "        vertical-align: top;\n",
       "    }\n",
       "\n",
       "    .dataframe thead th {\n",
       "        text-align: right;\n",
       "    }\n",
       "</style>\n",
       "<table border=\"1\" class=\"dataframe\">\n",
       "  <thead>\n",
       "    <tr style=\"text-align: right;\">\n",
       "      <th></th>\n",
       "      <th>Test ID</th>\n",
       "      <th>Encoded Systemic Illness</th>\n",
       "      <th>Rectal Pain</th>\n",
       "      <th>Sore Throat</th>\n",
       "      <th>Penile Oedema</th>\n",
       "      <th>Oral Lesions</th>\n",
       "      <th>Solitary Lesion</th>\n",
       "      <th>Swollen Tonsils</th>\n",
       "      <th>HIV Infection</th>\n",
       "      <th>Age</th>\n",
       "      <th>Sexually Transmitted Infection</th>\n",
       "      <th>MPOX PCR Result</th>\n",
       "    </tr>\n",
       "  </thead>\n",
       "  <tbody>\n",
       "  </tbody>\n",
       "</table>\n",
       "</div>"
      ],
      "text/plain": [
       "Empty DataFrame\n",
       "Columns: [Test ID, Encoded Systemic Illness, Rectal Pain, Sore Throat, Penile Oedema, Oral Lesions, Solitary Lesion, Swollen Tonsils, HIV Infection, Age, Sexually Transmitted Infection, MPOX PCR Result]\n",
       "Index: []"
      ]
     },
     "execution_count": 158,
     "metadata": {},
     "output_type": "execute_result"
    }
   ],
   "source": [
    "df_monkey_pox[df_monkey_pox['Oral Lesions'] == 'YES']"
   ]
  },
  {
   "cell_type": "code",
   "execution_count": 159,
   "id": "ceb73354",
   "metadata": {},
   "outputs": [
    {
     "data": {
      "text/html": [
       "<div>\n",
       "<style scoped>\n",
       "    .dataframe tbody tr th:only-of-type {\n",
       "        vertical-align: middle;\n",
       "    }\n",
       "\n",
       "    .dataframe tbody tr th {\n",
       "        vertical-align: top;\n",
       "    }\n",
       "\n",
       "    .dataframe thead th {\n",
       "        text-align: right;\n",
       "    }\n",
       "</style>\n",
       "<table border=\"1\" class=\"dataframe\">\n",
       "  <thead>\n",
       "    <tr style=\"text-align: right;\">\n",
       "      <th></th>\n",
       "      <th>Test ID</th>\n",
       "      <th>Encoded Systemic Illness</th>\n",
       "      <th>Rectal Pain</th>\n",
       "      <th>Sore Throat</th>\n",
       "      <th>Penile Oedema</th>\n",
       "      <th>Oral Lesions</th>\n",
       "      <th>Solitary Lesion</th>\n",
       "      <th>Swollen Tonsils</th>\n",
       "      <th>HIV Infection</th>\n",
       "      <th>Age</th>\n",
       "      <th>Sexually Transmitted Infection</th>\n",
       "      <th>MPOX PCR Result</th>\n",
       "    </tr>\n",
       "  </thead>\n",
       "  <tbody>\n",
       "    <tr>\n",
       "      <th>591</th>\n",
       "      <td>AB0265</td>\n",
       "      <td>1.0</td>\n",
       "      <td>0.0</td>\n",
       "      <td>1</td>\n",
       "      <td>1.0</td>\n",
       "      <td>No</td>\n",
       "      <td>0</td>\n",
       "      <td>0.0</td>\n",
       "      <td>0.0</td>\n",
       "      <td>34.0</td>\n",
       "      <td>1.0</td>\n",
       "      <td>Positive</td>\n",
       "    </tr>\n",
       "    <tr>\n",
       "      <th>597</th>\n",
       "      <td>AB0271</td>\n",
       "      <td>2.0</td>\n",
       "      <td>1.0</td>\n",
       "      <td>1</td>\n",
       "      <td>1.0</td>\n",
       "      <td>No</td>\n",
       "      <td>0</td>\n",
       "      <td>0.0</td>\n",
       "      <td>0.0</td>\n",
       "      <td>61.0</td>\n",
       "      <td>1.0</td>\n",
       "      <td>Positive</td>\n",
       "    </tr>\n",
       "    <tr>\n",
       "      <th>630</th>\n",
       "      <td>AB0304</td>\n",
       "      <td>0.0</td>\n",
       "      <td>0.0</td>\n",
       "      <td>1</td>\n",
       "      <td>0.0</td>\n",
       "      <td>No</td>\n",
       "      <td>1</td>\n",
       "      <td>0.0</td>\n",
       "      <td>0.0</td>\n",
       "      <td>41.0</td>\n",
       "      <td>1.0</td>\n",
       "      <td>Negative</td>\n",
       "    </tr>\n",
       "    <tr>\n",
       "      <th>655</th>\n",
       "      <td>AB0329</td>\n",
       "      <td>1.0</td>\n",
       "      <td>1.0</td>\n",
       "      <td>1</td>\n",
       "      <td>1.0</td>\n",
       "      <td>No</td>\n",
       "      <td>1</td>\n",
       "      <td>1.0</td>\n",
       "      <td>1.0</td>\n",
       "      <td>58.0</td>\n",
       "      <td>0.0</td>\n",
       "      <td>Positive</td>\n",
       "    </tr>\n",
       "    <tr>\n",
       "      <th>707</th>\n",
       "      <td>AB0381</td>\n",
       "      <td>2.0</td>\n",
       "      <td>1.0</td>\n",
       "      <td>0</td>\n",
       "      <td>0.0</td>\n",
       "      <td>No</td>\n",
       "      <td>0</td>\n",
       "      <td>1.0</td>\n",
       "      <td>0.0</td>\n",
       "      <td>41.0</td>\n",
       "      <td>1.0</td>\n",
       "      <td>Negative</td>\n",
       "    </tr>\n",
       "    <tr>\n",
       "      <th>732</th>\n",
       "      <td>AB0406</td>\n",
       "      <td>3.0</td>\n",
       "      <td>1.0</td>\n",
       "      <td>1</td>\n",
       "      <td>1.0</td>\n",
       "      <td>No</td>\n",
       "      <td>0</td>\n",
       "      <td>0.0</td>\n",
       "      <td>1.0</td>\n",
       "      <td>35.0</td>\n",
       "      <td>0.0</td>\n",
       "      <td>Negative</td>\n",
       "    </tr>\n",
       "    <tr>\n",
       "      <th>760</th>\n",
       "      <td>AB0434</td>\n",
       "      <td>3.0</td>\n",
       "      <td>0.0</td>\n",
       "      <td>1</td>\n",
       "      <td>0.0</td>\n",
       "      <td>No</td>\n",
       "      <td>1</td>\n",
       "      <td>1.0</td>\n",
       "      <td>1.0</td>\n",
       "      <td>43.0</td>\n",
       "      <td>0.0</td>\n",
       "      <td>Negative</td>\n",
       "    </tr>\n",
       "  </tbody>\n",
       "</table>\n",
       "</div>"
      ],
      "text/plain": [
       "    Test ID  Encoded Systemic Illness  Rectal Pain  Sore Throat  \\\n",
       "591  AB0265                       1.0          0.0            1   \n",
       "597  AB0271                       2.0          1.0            1   \n",
       "630  AB0304                       0.0          0.0            1   \n",
       "655  AB0329                       1.0          1.0            1   \n",
       "707  AB0381                       2.0          1.0            0   \n",
       "732  AB0406                       3.0          1.0            1   \n",
       "760  AB0434                       3.0          0.0            1   \n",
       "\n",
       "     Penile Oedema Oral Lesions  Solitary Lesion  Swollen Tonsils  \\\n",
       "591            1.0           No                0              0.0   \n",
       "597            1.0           No                0              0.0   \n",
       "630            0.0           No                1              0.0   \n",
       "655            1.0           No                1              1.0   \n",
       "707            0.0           No                0              1.0   \n",
       "732            1.0           No                0              0.0   \n",
       "760            0.0           No                1              1.0   \n",
       "\n",
       "     HIV Infection   Age  Sexually Transmitted Infection MPOX PCR Result  \n",
       "591            0.0  34.0                             1.0        Positive  \n",
       "597            0.0  61.0                             1.0        Positive  \n",
       "630            0.0  41.0                             1.0        Negative  \n",
       "655            1.0  58.0                             0.0        Positive  \n",
       "707            0.0  41.0                             1.0        Negative  \n",
       "732            1.0  35.0                             0.0        Negative  \n",
       "760            1.0  43.0                             0.0        Negative  "
      ]
     },
     "execution_count": 159,
     "metadata": {},
     "output_type": "execute_result"
    }
   ],
   "source": [
    "df_monkey_pox[df_monkey_pox['Oral Lesions'] == 'No']"
   ]
  },
  {
   "cell_type": "code",
   "execution_count": 160,
   "id": "b598c93f",
   "metadata": {},
   "outputs": [
    {
     "data": {
      "text/html": [
       "<div>\n",
       "<style scoped>\n",
       "    .dataframe tbody tr th:only-of-type {\n",
       "        vertical-align: middle;\n",
       "    }\n",
       "\n",
       "    .dataframe tbody tr th {\n",
       "        vertical-align: top;\n",
       "    }\n",
       "\n",
       "    .dataframe thead th {\n",
       "        text-align: right;\n",
       "    }\n",
       "</style>\n",
       "<table border=\"1\" class=\"dataframe\">\n",
       "  <thead>\n",
       "    <tr style=\"text-align: right;\">\n",
       "      <th></th>\n",
       "      <th>Test ID</th>\n",
       "      <th>Encoded Systemic Illness</th>\n",
       "      <th>Rectal Pain</th>\n",
       "      <th>Sore Throat</th>\n",
       "      <th>Penile Oedema</th>\n",
       "      <th>Oral Lesions</th>\n",
       "      <th>Solitary Lesion</th>\n",
       "      <th>Swollen Tonsils</th>\n",
       "      <th>HIV Infection</th>\n",
       "      <th>Age</th>\n",
       "      <th>Sexually Transmitted Infection</th>\n",
       "      <th>MPOX PCR Result</th>\n",
       "    </tr>\n",
       "  </thead>\n",
       "  <tbody>\n",
       "  </tbody>\n",
       "</table>\n",
       "</div>"
      ],
      "text/plain": [
       "Empty DataFrame\n",
       "Columns: [Test ID, Encoded Systemic Illness, Rectal Pain, Sore Throat, Penile Oedema, Oral Lesions, Solitary Lesion, Swollen Tonsils, HIV Infection, Age, Sexually Transmitted Infection, MPOX PCR Result]\n",
       "Index: []"
      ]
     },
     "execution_count": 160,
     "metadata": {},
     "output_type": "execute_result"
    }
   ],
   "source": [
    "mask = (df_monkey_pox['Oral Lesions'] == 'YES')\n",
    "df_monkey_pox.loc[mask, 'Oral Lesions'] = 1\n",
    "df_monkey_pox[df_monkey_pox['Oral Lesions']=='YES']"
   ]
  },
  {
   "cell_type": "code",
   "execution_count": 161,
   "id": "6764422d",
   "metadata": {},
   "outputs": [
    {
     "data": {
      "text/html": [
       "<div>\n",
       "<style scoped>\n",
       "    .dataframe tbody tr th:only-of-type {\n",
       "        vertical-align: middle;\n",
       "    }\n",
       "\n",
       "    .dataframe tbody tr th {\n",
       "        vertical-align: top;\n",
       "    }\n",
       "\n",
       "    .dataframe thead th {\n",
       "        text-align: right;\n",
       "    }\n",
       "</style>\n",
       "<table border=\"1\" class=\"dataframe\">\n",
       "  <thead>\n",
       "    <tr style=\"text-align: right;\">\n",
       "      <th></th>\n",
       "      <th>Test ID</th>\n",
       "      <th>Encoded Systemic Illness</th>\n",
       "      <th>Rectal Pain</th>\n",
       "      <th>Sore Throat</th>\n",
       "      <th>Penile Oedema</th>\n",
       "      <th>Oral Lesions</th>\n",
       "      <th>Solitary Lesion</th>\n",
       "      <th>Swollen Tonsils</th>\n",
       "      <th>HIV Infection</th>\n",
       "      <th>Age</th>\n",
       "      <th>Sexually Transmitted Infection</th>\n",
       "      <th>MPOX PCR Result</th>\n",
       "    </tr>\n",
       "  </thead>\n",
       "  <tbody>\n",
       "  </tbody>\n",
       "</table>\n",
       "</div>"
      ],
      "text/plain": [
       "Empty DataFrame\n",
       "Columns: [Test ID, Encoded Systemic Illness, Rectal Pain, Sore Throat, Penile Oedema, Oral Lesions, Solitary Lesion, Swollen Tonsils, HIV Infection, Age, Sexually Transmitted Infection, MPOX PCR Result]\n",
       "Index: []"
      ]
     },
     "execution_count": 161,
     "metadata": {},
     "output_type": "execute_result"
    }
   ],
   "source": [
    "mask = (df_monkey_pox['Oral Lesions'] == 'No')\n",
    "df_monkey_pox.loc[mask, 'Oral Lesions'] = 0\n",
    "df_monkey_pox[df_monkey_pox['Oral Lesions']=='No']"
   ]
  },
  {
   "cell_type": "markdown",
   "id": "7d79e1d0",
   "metadata": {},
   "source": [
    "### Converting Oral Lesions column to int (Str to int)"
   ]
  },
  {
   "cell_type": "code",
   "execution_count": 162,
   "id": "b46b61c0",
   "metadata": {},
   "outputs": [
    {
     "data": {
      "text/plain": [
       "Oral Lesions\n",
       "0    12504\n",
       "1    12481\n",
       "0        7\n",
       "1        4\n",
       "Name: count, dtype: int64"
      ]
     },
     "execution_count": 162,
     "metadata": {},
     "output_type": "execute_result"
    }
   ],
   "source": [
    "df_monkey_pox['Oral Lesions'].value_counts()"
   ]
  },
  {
   "cell_type": "code",
   "execution_count": 163,
   "id": "78d8e583",
   "metadata": {},
   "outputs": [
    {
     "data": {
      "text/html": [
       "<div>\n",
       "<style scoped>\n",
       "    .dataframe tbody tr th:only-of-type {\n",
       "        vertical-align: middle;\n",
       "    }\n",
       "\n",
       "    .dataframe tbody tr th {\n",
       "        vertical-align: top;\n",
       "    }\n",
       "\n",
       "    .dataframe thead th {\n",
       "        text-align: right;\n",
       "    }\n",
       "</style>\n",
       "<table border=\"1\" class=\"dataframe\">\n",
       "  <thead>\n",
       "    <tr style=\"text-align: right;\">\n",
       "      <th></th>\n",
       "      <th>Test ID</th>\n",
       "      <th>Encoded Systemic Illness</th>\n",
       "      <th>Rectal Pain</th>\n",
       "      <th>Sore Throat</th>\n",
       "      <th>Penile Oedema</th>\n",
       "      <th>Oral Lesions</th>\n",
       "      <th>Solitary Lesion</th>\n",
       "      <th>Swollen Tonsils</th>\n",
       "      <th>HIV Infection</th>\n",
       "      <th>Age</th>\n",
       "      <th>Sexually Transmitted Infection</th>\n",
       "      <th>MPOX PCR Result</th>\n",
       "    </tr>\n",
       "  </thead>\n",
       "  <tbody>\n",
       "    <tr>\n",
       "      <th>591</th>\n",
       "      <td>AB0265</td>\n",
       "      <td>1.0</td>\n",
       "      <td>0.0</td>\n",
       "      <td>1</td>\n",
       "      <td>1.0</td>\n",
       "      <td>0</td>\n",
       "      <td>0</td>\n",
       "      <td>0.0</td>\n",
       "      <td>0.0</td>\n",
       "      <td>34.0</td>\n",
       "      <td>1.0</td>\n",
       "      <td>Positive</td>\n",
       "    </tr>\n",
       "    <tr>\n",
       "      <th>597</th>\n",
       "      <td>AB0271</td>\n",
       "      <td>2.0</td>\n",
       "      <td>1.0</td>\n",
       "      <td>1</td>\n",
       "      <td>1.0</td>\n",
       "      <td>0</td>\n",
       "      <td>0</td>\n",
       "      <td>0.0</td>\n",
       "      <td>0.0</td>\n",
       "      <td>61.0</td>\n",
       "      <td>1.0</td>\n",
       "      <td>Positive</td>\n",
       "    </tr>\n",
       "    <tr>\n",
       "      <th>630</th>\n",
       "      <td>AB0304</td>\n",
       "      <td>0.0</td>\n",
       "      <td>0.0</td>\n",
       "      <td>1</td>\n",
       "      <td>0.0</td>\n",
       "      <td>0</td>\n",
       "      <td>1</td>\n",
       "      <td>0.0</td>\n",
       "      <td>0.0</td>\n",
       "      <td>41.0</td>\n",
       "      <td>1.0</td>\n",
       "      <td>Negative</td>\n",
       "    </tr>\n",
       "    <tr>\n",
       "      <th>655</th>\n",
       "      <td>AB0329</td>\n",
       "      <td>1.0</td>\n",
       "      <td>1.0</td>\n",
       "      <td>1</td>\n",
       "      <td>1.0</td>\n",
       "      <td>0</td>\n",
       "      <td>1</td>\n",
       "      <td>1.0</td>\n",
       "      <td>1.0</td>\n",
       "      <td>58.0</td>\n",
       "      <td>0.0</td>\n",
       "      <td>Positive</td>\n",
       "    </tr>\n",
       "    <tr>\n",
       "      <th>707</th>\n",
       "      <td>AB0381</td>\n",
       "      <td>2.0</td>\n",
       "      <td>1.0</td>\n",
       "      <td>0</td>\n",
       "      <td>0.0</td>\n",
       "      <td>0</td>\n",
       "      <td>0</td>\n",
       "      <td>1.0</td>\n",
       "      <td>0.0</td>\n",
       "      <td>41.0</td>\n",
       "      <td>1.0</td>\n",
       "      <td>Negative</td>\n",
       "    </tr>\n",
       "    <tr>\n",
       "      <th>732</th>\n",
       "      <td>AB0406</td>\n",
       "      <td>3.0</td>\n",
       "      <td>1.0</td>\n",
       "      <td>1</td>\n",
       "      <td>1.0</td>\n",
       "      <td>0</td>\n",
       "      <td>0</td>\n",
       "      <td>0.0</td>\n",
       "      <td>1.0</td>\n",
       "      <td>35.0</td>\n",
       "      <td>0.0</td>\n",
       "      <td>Negative</td>\n",
       "    </tr>\n",
       "    <tr>\n",
       "      <th>760</th>\n",
       "      <td>AB0434</td>\n",
       "      <td>3.0</td>\n",
       "      <td>0.0</td>\n",
       "      <td>1</td>\n",
       "      <td>0.0</td>\n",
       "      <td>0</td>\n",
       "      <td>1</td>\n",
       "      <td>1.0</td>\n",
       "      <td>1.0</td>\n",
       "      <td>43.0</td>\n",
       "      <td>0.0</td>\n",
       "      <td>Negative</td>\n",
       "    </tr>\n",
       "  </tbody>\n",
       "</table>\n",
       "</div>"
      ],
      "text/plain": [
       "    Test ID  Encoded Systemic Illness  Rectal Pain  Sore Throat  \\\n",
       "591  AB0265                       1.0          0.0            1   \n",
       "597  AB0271                       2.0          1.0            1   \n",
       "630  AB0304                       0.0          0.0            1   \n",
       "655  AB0329                       1.0          1.0            1   \n",
       "707  AB0381                       2.0          1.0            0   \n",
       "732  AB0406                       3.0          1.0            1   \n",
       "760  AB0434                       3.0          0.0            1   \n",
       "\n",
       "     Penile Oedema Oral Lesions  Solitary Lesion  Swollen Tonsils  \\\n",
       "591            1.0            0                0              0.0   \n",
       "597            1.0            0                0              0.0   \n",
       "630            0.0            0                1              0.0   \n",
       "655            1.0            0                1              1.0   \n",
       "707            0.0            0                0              1.0   \n",
       "732            1.0            0                0              0.0   \n",
       "760            0.0            0                1              1.0   \n",
       "\n",
       "     HIV Infection   Age  Sexually Transmitted Infection MPOX PCR Result  \n",
       "591            0.0  34.0                             1.0        Positive  \n",
       "597            0.0  61.0                             1.0        Positive  \n",
       "630            0.0  41.0                             1.0        Negative  \n",
       "655            1.0  58.0                             0.0        Positive  \n",
       "707            0.0  41.0                             1.0        Negative  \n",
       "732            1.0  35.0                             0.0        Negative  \n",
       "760            1.0  43.0                             0.0        Negative  "
      ]
     },
     "execution_count": 163,
     "metadata": {},
     "output_type": "execute_result"
    }
   ],
   "source": [
    "df_monkey_pox[df_monkey_pox['Oral Lesions']== 0.0]"
   ]
  },
  {
   "cell_type": "code",
   "execution_count": 164,
   "id": "17fa5050",
   "metadata": {},
   "outputs": [],
   "source": [
    "df_monkey_pox['Oral Lesions'] = df_monkey_pox['Oral Lesions'].astype(int)"
   ]
  },
  {
   "cell_type": "code",
   "execution_count": 165,
   "id": "5f5f5461",
   "metadata": {},
   "outputs": [
    {
     "data": {
      "text/plain": [
       "Oral Lesions\n",
       "0    12511\n",
       "1    12485\n",
       "Name: count, dtype: int64"
      ]
     },
     "execution_count": 165,
     "metadata": {},
     "output_type": "execute_result"
    }
   ],
   "source": [
    "df_monkey_pox['Oral Lesions'].value_counts()"
   ]
  },
  {
   "cell_type": "markdown",
   "id": "c5fa9c1e",
   "metadata": {},
   "source": [
    "### Fixing the Age related issues"
   ]
  },
  {
   "cell_type": "code",
   "execution_count": 166,
   "id": "51d9eaea",
   "metadata": {},
   "outputs": [
    {
     "data": {
      "text/plain": [
       "Age\n",
       "47.0    734\n",
       "33.0    684\n",
       "50.0    683\n",
       "58.0    676\n",
       "43.0    675\n",
       "48.0    673\n",
       "41.0    672\n",
       "46.0    669\n",
       "53.0    669\n",
       "37.0    668\n",
       "60.0    665\n",
       "29.0    656\n",
       "26.0    654\n",
       "49.0    651\n",
       "39.0    650\n",
       "34.0    650\n",
       "35.0    647\n",
       "59.0    643\n",
       "25.0    641\n",
       "36.0    641\n",
       "55.0    635\n",
       "45.0    634\n",
       "32.0    632\n",
       "61.0    631\n",
       "52.0    628\n",
       "23.0    625\n",
       "28.0    624\n",
       "40.0    623\n",
       "31.0    622\n",
       "38.0    621\n",
       "51.0    621\n",
       "44.0    617\n",
       "42.0    614\n",
       "30.0    611\n",
       "24.0    604\n",
       "57.0    597\n",
       "54.0    591\n",
       "27.0    583\n",
       "56.0    582\n",
       "Name: count, dtype: int64"
      ]
     },
     "execution_count": 166,
     "metadata": {},
     "output_type": "execute_result"
    }
   ],
   "source": [
    "df_monkey_pox['Age'].value_counts()"
   ]
  },
  {
   "cell_type": "code",
   "execution_count": 167,
   "id": "797c3e3e",
   "metadata": {},
   "outputs": [
    {
     "data": {
      "text/html": [
       "<div>\n",
       "<style scoped>\n",
       "    .dataframe tbody tr th:only-of-type {\n",
       "        vertical-align: middle;\n",
       "    }\n",
       "\n",
       "    .dataframe tbody tr th {\n",
       "        vertical-align: top;\n",
       "    }\n",
       "\n",
       "    .dataframe thead th {\n",
       "        text-align: right;\n",
       "    }\n",
       "</style>\n",
       "<table border=\"1\" class=\"dataframe\">\n",
       "  <thead>\n",
       "    <tr style=\"text-align: right;\">\n",
       "      <th></th>\n",
       "      <th>Test ID</th>\n",
       "      <th>Encoded Systemic Illness</th>\n",
       "      <th>Rectal Pain</th>\n",
       "      <th>Sore Throat</th>\n",
       "      <th>Penile Oedema</th>\n",
       "      <th>Oral Lesions</th>\n",
       "      <th>Solitary Lesion</th>\n",
       "      <th>Swollen Tonsils</th>\n",
       "      <th>HIV Infection</th>\n",
       "      <th>Age</th>\n",
       "      <th>Sexually Transmitted Infection</th>\n",
       "      <th>MPOX PCR Result</th>\n",
       "    </tr>\n",
       "  </thead>\n",
       "  <tbody>\n",
       "  </tbody>\n",
       "</table>\n",
       "</div>"
      ],
      "text/plain": [
       "Empty DataFrame\n",
       "Columns: [Test ID, Encoded Systemic Illness, Rectal Pain, Sore Throat, Penile Oedema, Oral Lesions, Solitary Lesion, Swollen Tonsils, HIV Infection, Age, Sexually Transmitted Infection, MPOX PCR Result]\n",
       "Index: []"
      ]
     },
     "execution_count": 167,
     "metadata": {},
     "output_type": "execute_result"
    }
   ],
   "source": [
    "df_monkey_pox[df_monkey_pox['Age'] == 'Twenty']"
   ]
  },
  {
   "cell_type": "code",
   "execution_count": 168,
   "id": "b4cbd0cd",
   "metadata": {},
   "outputs": [
    {
     "data": {
      "text/html": [
       "<div>\n",
       "<style scoped>\n",
       "    .dataframe tbody tr th:only-of-type {\n",
       "        vertical-align: middle;\n",
       "    }\n",
       "\n",
       "    .dataframe tbody tr th {\n",
       "        vertical-align: top;\n",
       "    }\n",
       "\n",
       "    .dataframe thead th {\n",
       "        text-align: right;\n",
       "    }\n",
       "</style>\n",
       "<table border=\"1\" class=\"dataframe\">\n",
       "  <thead>\n",
       "    <tr style=\"text-align: right;\">\n",
       "      <th></th>\n",
       "      <th>Test ID</th>\n",
       "      <th>Encoded Systemic Illness</th>\n",
       "      <th>Rectal Pain</th>\n",
       "      <th>Sore Throat</th>\n",
       "      <th>Penile Oedema</th>\n",
       "      <th>Oral Lesions</th>\n",
       "      <th>Solitary Lesion</th>\n",
       "      <th>Swollen Tonsils</th>\n",
       "      <th>HIV Infection</th>\n",
       "      <th>Age</th>\n",
       "      <th>Sexually Transmitted Infection</th>\n",
       "      <th>MPOX PCR Result</th>\n",
       "    </tr>\n",
       "  </thead>\n",
       "  <tbody>\n",
       "  </tbody>\n",
       "</table>\n",
       "</div>"
      ],
      "text/plain": [
       "Empty DataFrame\n",
       "Columns: [Test ID, Encoded Systemic Illness, Rectal Pain, Sore Throat, Penile Oedema, Oral Lesions, Solitary Lesion, Swollen Tonsils, HIV Infection, Age, Sexually Transmitted Infection, MPOX PCR Result]\n",
       "Index: []"
      ]
     },
     "execution_count": 168,
     "metadata": {},
     "output_type": "execute_result"
    }
   ],
   "source": [
    "mask = (df_monkey_pox['Age'] == 'Twenty')\n",
    "df_monkey_pox.loc[mask, 'Age'] = 20\n",
    "df_monkey_pox[df_monkey_pox['Age']=='Twenty']"
   ]
  },
  {
   "cell_type": "code",
   "execution_count": 169,
   "id": "e124d249",
   "metadata": {},
   "outputs": [],
   "source": [
    "df_monkey_pox['Age'] = df_monkey_pox['Age'].astype(int)"
   ]
  },
  {
   "cell_type": "code",
   "execution_count": 170,
   "id": "65255c44",
   "metadata": {},
   "outputs": [],
   "source": [
    "df_monkey_pox['Age'] = df_monkey_pox['Age'].abs()"
   ]
  },
  {
   "cell_type": "code",
   "execution_count": 171,
   "id": "12b448fe",
   "metadata": {},
   "outputs": [],
   "source": [
    "df_monkey_pox.loc[((df_monkey_pox['Age'] > 61) | (df_monkey_pox['Age'] <= 20)), 'Age'] = pd.NA\n",
    "df_monkey_pox.dropna(subset=['Age'], inplace=True)"
   ]
  },
  {
   "cell_type": "code",
   "execution_count": 172,
   "id": "b91a37a2",
   "metadata": {},
   "outputs": [],
   "source": [
    "#df_monkey_pox[['Test ID', 'Age']].plot(kind='scatter', x=\"Test ID\", y='Age')\n",
    "#above code will take about 1 minute"
   ]
  },
  {
   "cell_type": "code",
   "execution_count": 173,
   "id": "97d79544",
   "metadata": {},
   "outputs": [
    {
     "data": {
      "text/plain": [
       "Age\n",
       "47.0    734\n",
       "33.0    684\n",
       "50.0    683\n",
       "58.0    676\n",
       "43.0    675\n",
       "48.0    673\n",
       "41.0    672\n",
       "46.0    669\n",
       "53.0    669\n",
       "37.0    668\n",
       "60.0    665\n",
       "29.0    656\n",
       "26.0    654\n",
       "49.0    651\n",
       "39.0    650\n",
       "34.0    650\n",
       "35.0    647\n",
       "59.0    643\n",
       "25.0    641\n",
       "36.0    641\n",
       "55.0    635\n",
       "45.0    634\n",
       "32.0    632\n",
       "61.0    631\n",
       "52.0    628\n",
       "23.0    625\n",
       "28.0    624\n",
       "40.0    623\n",
       "31.0    622\n",
       "38.0    621\n",
       "51.0    621\n",
       "44.0    617\n",
       "42.0    614\n",
       "30.0    611\n",
       "24.0    604\n",
       "57.0    597\n",
       "54.0    591\n",
       "27.0    583\n",
       "56.0    582\n",
       "Name: count, dtype: int64"
      ]
     },
     "execution_count": 173,
     "metadata": {},
     "output_type": "execute_result"
    }
   ],
   "source": [
    "df_monkey_pox['Age'].value_counts()"
   ]
  },
  {
   "cell_type": "markdown",
   "id": "d02ca36e",
   "metadata": {},
   "source": [
    "### Converting the MPOX target variable to numeric"
   ]
  },
  {
   "cell_type": "code",
   "execution_count": 174,
   "id": "f5e22c49",
   "metadata": {},
   "outputs": [
    {
     "data": {
      "text/plain": [
       "MPOX PCR Result\n",
       "Positive    15908\n",
       "Negative     9088\n",
       "Name: count, dtype: int64"
      ]
     },
     "execution_count": 174,
     "metadata": {},
     "output_type": "execute_result"
    }
   ],
   "source": [
    "df_monkey_pox['MPOX PCR Result'].value_counts()"
   ]
  },
  {
   "cell_type": "code",
   "execution_count": 175,
   "id": "8a117ed0",
   "metadata": {},
   "outputs": [
    {
     "data": {
      "text/plain": [
       "MPOX PCR Result\n",
       "1    15908\n",
       "0     9088\n",
       "Name: count, dtype: int64"
      ]
     },
     "execution_count": 175,
     "metadata": {},
     "output_type": "execute_result"
    }
   ],
   "source": [
    "mapping = {'Positive': 1, 'Negative': 0}\n",
    "df_monkey_pox['MPOX PCR Result'] = df_monkey_pox['MPOX PCR Result'].map(mapping)\n",
    "df_monkey_pox['MPOX PCR Result'].value_counts()"
   ]
  },
  {
   "cell_type": "markdown",
   "id": "ddbec921",
   "metadata": {},
   "source": [
    "### Final verifications after cleaning"
   ]
  },
  {
   "cell_type": "code",
   "execution_count": 176,
   "id": "9a776db2",
   "metadata": {},
   "outputs": [
    {
     "data": {
      "text/plain": [
       "Test ID                           0\n",
       "Encoded Systemic Illness          0\n",
       "Rectal Pain                       0\n",
       "Sore Throat                       0\n",
       "Penile Oedema                     0\n",
       "Oral Lesions                      0\n",
       "Solitary Lesion                   0\n",
       "Swollen Tonsils                   0\n",
       "HIV Infection                     0\n",
       "Age                               0\n",
       "Sexually Transmitted Infection    0\n",
       "MPOX PCR Result                   0\n",
       "dtype: int64"
      ]
     },
     "execution_count": 176,
     "metadata": {},
     "output_type": "execute_result"
    }
   ],
   "source": [
    "#Last check to verify if all the data issues has fixed \n",
    "df_monkey_pox.isna().sum()"
   ]
  },
  {
   "cell_type": "code",
   "execution_count": 177,
   "id": "cde2a384",
   "metadata": {},
   "outputs": [
    {
     "data": {
      "text/plain": [
       "Test ID                           0\n",
       "Encoded Systemic Illness          0\n",
       "Rectal Pain                       0\n",
       "Sore Throat                       0\n",
       "Penile Oedema                     0\n",
       "Oral Lesions                      0\n",
       "Solitary Lesion                   0\n",
       "Swollen Tonsils                   0\n",
       "HIV Infection                     0\n",
       "Age                               0\n",
       "Sexually Transmitted Infection    0\n",
       "MPOX PCR Result                   0\n",
       "dtype: int64"
      ]
     },
     "execution_count": 177,
     "metadata": {},
     "output_type": "execute_result"
    }
   ],
   "source": [
    "#Look for Null Values \n",
    "#data_frame_with_retained_variables.isnull().sum()\n",
    "df_monkey_pox.isnull().sum()"
   ]
  },
  {
   "cell_type": "code",
   "execution_count": 178,
   "id": "aa2908e5",
   "metadata": {},
   "outputs": [
    {
     "name": "stdout",
     "output_type": "stream",
     "text": [
      "<class 'pandas.core.frame.DataFrame'>\n",
      "Index: 24996 entries, 0 to 24999\n",
      "Data columns (total 12 columns):\n",
      " #   Column                          Non-Null Count  Dtype  \n",
      "---  ------                          --------------  -----  \n",
      " 0   Test ID                         24996 non-null  object \n",
      " 1   Encoded Systemic Illness        24996 non-null  float64\n",
      " 2   Rectal Pain                     24996 non-null  float64\n",
      " 3   Sore Throat                     24996 non-null  int64  \n",
      " 4   Penile Oedema                   24996 non-null  float64\n",
      " 5   Oral Lesions                    24996 non-null  int64  \n",
      " 6   Solitary Lesion                 24996 non-null  int64  \n",
      " 7   Swollen Tonsils                 24996 non-null  float64\n",
      " 8   HIV Infection                   24996 non-null  float64\n",
      " 9   Age                             24996 non-null  float64\n",
      " 10  Sexually Transmitted Infection  24996 non-null  float64\n",
      " 11  MPOX PCR Result                 24996 non-null  int64  \n",
      "dtypes: float64(7), int64(4), object(1)\n",
      "memory usage: 2.5+ MB\n"
     ]
    }
   ],
   "source": [
    "df_monkey_pox.info()"
   ]
  },
  {
   "cell_type": "code",
   "execution_count": 179,
   "id": "485de4c1-a914-467e-bedd-2794d5070b8e",
   "metadata": {},
   "outputs": [
    {
     "data": {
      "text/html": [
       "<div>\n",
       "<style scoped>\n",
       "    .dataframe tbody tr th:only-of-type {\n",
       "        vertical-align: middle;\n",
       "    }\n",
       "\n",
       "    .dataframe tbody tr th {\n",
       "        vertical-align: top;\n",
       "    }\n",
       "\n",
       "    .dataframe thead th {\n",
       "        text-align: right;\n",
       "    }\n",
       "</style>\n",
       "<table border=\"1\" class=\"dataframe\">\n",
       "  <thead>\n",
       "    <tr style=\"text-align: right;\">\n",
       "      <th></th>\n",
       "      <th>Encoded Systemic Illness</th>\n",
       "      <th>Rectal Pain</th>\n",
       "      <th>Sore Throat</th>\n",
       "      <th>Penile Oedema</th>\n",
       "      <th>Oral Lesions</th>\n",
       "      <th>Solitary Lesion</th>\n",
       "      <th>Swollen Tonsils</th>\n",
       "      <th>HIV Infection</th>\n",
       "      <th>Sexually Transmitted Infection</th>\n",
       "    </tr>\n",
       "  </thead>\n",
       "  <tbody>\n",
       "    <tr>\n",
       "      <th>0.0</th>\n",
       "      <td>6212</td>\n",
       "      <td>12654.0</td>\n",
       "      <td>12442.0</td>\n",
       "      <td>12384.0</td>\n",
       "      <td>12511.0</td>\n",
       "      <td>12472.0</td>\n",
       "      <td>12463.0</td>\n",
       "      <td>12413.0</td>\n",
       "      <td>12554.0</td>\n",
       "    </tr>\n",
       "    <tr>\n",
       "      <th>1.0</th>\n",
       "      <td>6383</td>\n",
       "      <td>12342.0</td>\n",
       "      <td>12554.0</td>\n",
       "      <td>12612.0</td>\n",
       "      <td>12485.0</td>\n",
       "      <td>12524.0</td>\n",
       "      <td>12533.0</td>\n",
       "      <td>12583.0</td>\n",
       "      <td>12442.0</td>\n",
       "    </tr>\n",
       "    <tr>\n",
       "      <th>2.0</th>\n",
       "      <td>6150</td>\n",
       "      <td>NaN</td>\n",
       "      <td>NaN</td>\n",
       "      <td>NaN</td>\n",
       "      <td>NaN</td>\n",
       "      <td>NaN</td>\n",
       "      <td>NaN</td>\n",
       "      <td>NaN</td>\n",
       "      <td>NaN</td>\n",
       "    </tr>\n",
       "    <tr>\n",
       "      <th>3.0</th>\n",
       "      <td>6251</td>\n",
       "      <td>NaN</td>\n",
       "      <td>NaN</td>\n",
       "      <td>NaN</td>\n",
       "      <td>NaN</td>\n",
       "      <td>NaN</td>\n",
       "      <td>NaN</td>\n",
       "      <td>NaN</td>\n",
       "      <td>NaN</td>\n",
       "    </tr>\n",
       "  </tbody>\n",
       "</table>\n",
       "</div>"
      ],
      "text/plain": [
       "     Encoded Systemic Illness  Rectal Pain  Sore Throat  Penile Oedema  \\\n",
       "0.0                      6212      12654.0      12442.0        12384.0   \n",
       "1.0                      6383      12342.0      12554.0        12612.0   \n",
       "2.0                      6150          NaN          NaN            NaN   \n",
       "3.0                      6251          NaN          NaN            NaN   \n",
       "\n",
       "     Oral Lesions  Solitary Lesion  Swollen Tonsils  HIV Infection  \\\n",
       "0.0       12511.0          12472.0          12463.0        12413.0   \n",
       "1.0       12485.0          12524.0          12533.0        12583.0   \n",
       "2.0           NaN              NaN              NaN            NaN   \n",
       "3.0           NaN              NaN              NaN            NaN   \n",
       "\n",
       "     Sexually Transmitted Infection  \n",
       "0.0                         12554.0  \n",
       "1.0                         12442.0  \n",
       "2.0                             NaN  \n",
       "3.0                             NaN  "
      ]
     },
     "execution_count": 179,
     "metadata": {},
     "output_type": "execute_result"
    }
   ],
   "source": [
    "binary_data_frame = df_monkey_pox[[\n",
    "       'Encoded Systemic Illness', 'Rectal Pain', 'Sore Throat','Penile Oedema', 'Oral Lesions',\n",
    "       'Solitary Lesion', 'Swollen Tonsils', 'HIV Infection',\n",
    "       'Sexually Transmitted Infection'\n",
    "]]\n",
    "binary_data_frame.apply(pd.Series.value_counts)\n"
   ]
  },
  {
   "cell_type": "code",
   "execution_count": 111,
   "id": "e02a5c75",
   "metadata": {},
   "outputs": [
    {
     "data": {
      "text/plain": [
       "array([[<Axes: title={'center': 'Encoded Systemic Illness'}>,\n",
       "        <Axes: title={'center': 'Rectal Pain'}>,\n",
       "        <Axes: title={'center': 'Sore Throat'}>],\n",
       "       [<Axes: title={'center': 'Penile Oedema'}>,\n",
       "        <Axes: title={'center': 'Oral Lesions'}>,\n",
       "        <Axes: title={'center': 'Solitary Lesion'}>],\n",
       "       [<Axes: title={'center': 'Swollen Tonsils'}>,\n",
       "        <Axes: title={'center': 'HIV Infection'}>,\n",
       "        <Axes: title={'center': 'Age'}>],\n",
       "       [<Axes: title={'center': 'Sexually Transmitted Infection'}>,\n",
       "        <Axes: title={'center': 'MPOX PCR Result'}>, <Axes: >]],\n",
       "      dtype=object)"
      ]
     },
     "execution_count": 111,
     "metadata": {},
     "output_type": "execute_result"
    },
    {
     "data": {
      "image/png": "[encoded data removed]",
      "text/plain": [
       "<Figure size 2000x2000 with 12 Axes>"
      ]
     },
     "metadata": {},
     "output_type": "display_data"
    }
   ],
   "source": [
    "df_monkey_pox.hist(bins = 60, figsize = (20,20))"
   ]
  },
  {
   "cell_type": "markdown",
   "id": "eca39ee2",
   "metadata": {},
   "source": [
    "# Task 04: Predictive Classification Model"
   ]
  },
  {
   "cell_type": "markdown",
   "id": "6b38b630",
   "metadata": {},
   "source": [
    "### B: Preparing the data set and splitting the dataset "
   ]
  },
  {
   "cell_type": "code",
   "execution_count": 212,
   "id": "d8ccd475",
   "metadata": {},
   "outputs": [
    {
     "name": "stdout",
     "output_type": "stream",
     "text": [
      "Duplicate Records when Test ID is not present:  22953\n",
      "\n",
      "\n",
      "Training Set - Class Distribution:\n",
      "MPOX PCR Result\n",
      "1    0.636427\n",
      "0    0.363573\n",
      "Name: proportion, dtype: float64\n",
      "\n",
      "Test Set - Class Distribution:\n",
      "MPOX PCR Result\n",
      "1    0.6364\n",
      "0    0.3636\n",
      "Name: proportion, dtype: float64\n"
     ]
    },
    {
     "data": {
      "text/plain": [
       "MPOX PCR Result\n",
       "1    63.642183\n",
       "0    36.357817\n",
       "Name: count, dtype: float64"
      ]
     },
     "execution_count": 212,
     "metadata": {},
     "output_type": "execute_result"
    }
   ],
   "source": [
    "from sklearn.model_selection import train_test_split\n",
    "\n",
    "#select the applicable categorical variables with class output\n",
    "categorical_features = [\n",
    "        'Encoded Systemic Illness',\n",
    "        'Rectal Pain', \n",
    "        'Sore Throat', \n",
    "        'Penile Oedema', \n",
    "        'Oral Lesions',\n",
    "        'Solitary Lesion', \n",
    "        'Swollen Tonsils', \n",
    "        'HIV Infection',\n",
    "       'Sexually Transmitted Infection'\n",
    "]\n",
    "\n",
    "class_output = 'MPOX PCR Result'\n",
    "\n",
    "#new data frame with the selected categorical variables\n",
    "df_cleaned_selected = df_monkey_pox[categorical_features + [class_output]]\n",
    "\n",
    "#If we drop the primary key 4100 duplicate records will appear but this is false positive\n",
    "print('Duplicate Records when Test ID is not present: ',df_cleaned_selected.duplicated().sum())\n",
    "print('\\n')\n",
    "\n",
    "# Splitting the train and test data sets\n",
    "X = df_cleaned_selected.drop(columns=[class_output])\n",
    "#display(X)\n",
    "\n",
    "y = df_cleaned_selected[class_output]\n",
    "#print(y)\n",
    "\n",
    "\n",
    "X_train, X_test, y_train, y_test = train_test_split(X, y, test_size=0.2, random_state=42, stratify=y)\n",
    "\n",
    "#do the following to see if the lables are equally distributed\n",
    "# Check class distribution in training set\n",
    "print(\"Training Set - Class Distribution:\")\n",
    "print(y_train.value_counts(normalize=True))\n",
    "\n",
    "# Check class distribution in test set\n",
    "print(\"\\nTest Set - Class Distribution:\")\n",
    "print(y_test.value_counts(normalize=True))\n"
   ]
  },
  {
   "cell_type": "markdown",
   "id": "ab9a1846",
   "metadata": {},
   "source": [
    "#### Train the models on the above dataset "
   ]
  },
  {
   "cell_type": "code",
   "execution_count": 213,
   "id": "0ab092d1",
   "metadata": {},
   "outputs": [
    {
     "name": "stdout",
     "output_type": "stream",
     "text": [
      "List of the Features used to train the model\n"
     ]
    },
    {
     "data": {
      "text/plain": [
       "['Encoded Systemic Illness',\n",
       " 'Rectal Pain',\n",
       " 'Sore Throat',\n",
       " 'Penile Oedema',\n",
       " 'Oral Lesions',\n",
       " 'Solitary Lesion',\n",
       " 'Swollen Tonsils',\n",
       " 'HIV Infection',\n",
       " 'Sexually Transmitted Infection']"
      ]
     },
     "metadata": {},
     "output_type": "display_data"
    },
    {
     "name": "stdout",
     "output_type": "stream",
     "text": [
      "\n",
      "Shape of the dataset\n",
      "X:  (24996, 9)\n",
      "Y:  (24996,)\n"
     ]
    }
   ],
   "source": [
    "from sklearn.naive_bayes import GaussianNB\n",
    "from sklearn.linear_model import LogisticRegression\n",
    "from sklearn.tree import DecisionTreeClassifier\n",
    "from sklearn.svm import SVC\n",
    "from sklearn.neighbors import KNeighborsClassifier\n",
    "\n",
    "#creating and training the NB classifier\n",
    "nb_classifier = GaussianNB()\n",
    "nb_classifier.fit(X_train, y_train)\n",
    "\n",
    "#building the DT \n",
    "dt_classifier = DecisionTreeClassifier(random_state=42)\n",
    "dt_classifier.fit(X_train, y_train)\n",
    "\n",
    "#building the DT \n",
    "lr_classifier = LogisticRegression(random_state=42)\n",
    "lr_classifier.fit(X_train, y_train)\n",
    "\n",
    "#building the DT \n",
    "svm_classifier = SVC(kernel='rbf', random_state=42)\n",
    "svm_classifier.fit(X_train, y_train)\n",
    "\n",
    "# Create KNN classifier with k=5 (you can adjust the value of k)\n",
    "knn_classifier = KNeighborsClassifier(n_neighbors=5)\n",
    "knn_classifier.fit(X_train, y_train)\n",
    "\n",
    "#list of feature \n",
    "print('List of the Features used to train the model')\n",
    "display(list(X.columns))\n",
    "\n",
    "#shape of the dataset\n",
    "print('\\nShape of the dataset')\n",
    "print('X: ',X.shape)\n",
    "print('Y: ',y.shape)\n"
   ]
  },
  {
   "cell_type": "markdown",
   "id": "13a630aa",
   "metadata": {},
   "source": [
    "#### Model Evaluation with test data"
   ]
  },
  {
   "cell_type": "code",
   "execution_count": 214,
   "id": "fa9dca1f",
   "metadata": {},
   "outputs": [
    {
     "name": "stdout",
     "output_type": "stream",
     "text": [
      "Naive Bayes Accuracy: 0.6728\n",
      "Logistic Regression Accuracy: 0.6726\n",
      "Decision Tree Accuracy: 0.6758\n",
      "SVM with RBF Kernel Accuracy: 0.6882\n",
      "KNN Accuracy: 0.6576\n"
     ]
    }
   ],
   "source": [
    "# Evaluate the models on the same test set\n",
    "nb_accuracy = nb_classifier.score(X_test, y_test)\n",
    "lr_accuracy = lr_classifier.score(X_test, y_test)\n",
    "dt_accuracy = dt_classifier.score(X_test, y_test)\n",
    "svm_accuracy = svm_classifier.score(X_test, y_test)\n",
    "knn_accuracy = knn_classifier.score(X_test, y_test)\n",
    "\n",
    "\n",
    "\n",
    "# Print the accuracies\n",
    "print(\"Naive Bayes Accuracy:\", nb_accuracy)\n",
    "print(\"Logistic Regression Accuracy:\", lr_accuracy)\n",
    "print(\"Decision Tree Accuracy:\", dt_accuracy)\n",
    "print(\"SVM with RBF Kernel Accuracy:\", svm_accuracy)\n",
    "print(\"KNN Accuracy:\", knn_accuracy)"
   ]
  },
  {
   "cell_type": "markdown",
   "id": "cff5aac7",
   "metadata": {},
   "source": [
    "# Task 05: Evaluation"
   ]
  },
  {
   "cell_type": "markdown",
   "id": "52f4b0e5",
   "metadata": {},
   "source": [
    "### A: Test Confusion Matrix"
   ]
  },
  {
   "cell_type": "code",
   "execution_count": 215,
   "id": "0b608aa8",
   "metadata": {},
   "outputs": [],
   "source": [
    "from sklearn.metrics import confusion_matrix\n",
    "import matplotlib.pyplot as plt\n",
    "import seaborn as sns"
   ]
  },
  {
   "cell_type": "markdown",
   "id": "0f7d75f2",
   "metadata": {},
   "source": [
    "#### NB Confusion Matrix"
   ]
  },
  {
   "cell_type": "code",
   "execution_count": 220,
   "id": "5a8187e8",
   "metadata": {},
   "outputs": [
    {
     "name": "stdout",
     "output_type": "stream",
     "text": [
      "[[ 485 1333]\n",
      " [ 303 2879]]\n"
     ]
    },
    {
     "data": {
      "image/png": "[encoded data removed]",
      "text/plain": [
       "<Figure size 800x600 with 2 Axes>"
      ]
     },
     "metadata": {},
     "output_type": "display_data"
    }
   ],
   "source": [
    "# Naive Bayes Confusion Matrix\n",
    "nb_cm = confusion_matrix(y_test, nb_classifier.predict(X_test))\n",
    "print(nb_cm)\n",
    "plt.figure(figsize=(8, 6))\n",
    "sns.heatmap(nb_cm, annot=True, fmt=\"d\", cmap=\"Blues\")\n",
    "plt.title(\"Naive Bayes Confusion Matrix\")\n",
    "plt.xlabel(\"Predicted Labels\")\n",
    "plt.ylabel(\"True Labels\")\n",
    "plt.show()\n"
   ]
  },
  {
   "cell_type": "markdown",
   "id": "9f603468",
   "metadata": {},
   "source": [
    "#### LR Confusion Matrix"
   ]
  },
  {
   "cell_type": "code",
   "execution_count": 216,
   "id": "248c5269",
   "metadata": {},
   "outputs": [
    {
     "name": "stdout",
     "output_type": "stream",
     "text": [
      "[[ 510 1308]\n",
      " [ 329 2853]]\n"
     ]
    },
    {
     "data": {
      "image/png": "[encoded data removed]",
      "text/plain": [
       "<Figure size 800x600 with 2 Axes>"
      ]
     },
     "metadata": {},
     "output_type": "display_data"
    }
   ],
   "source": [
    "# Logistic Regression Confusion Matrix\n",
    "\n",
    "lr_cm = confusion_matrix(y_test, lr_classifier.predict(X_test))\n",
    "print(lr_cm)\n",
    "plt.figure(figsize=(8, 6))\n",
    "sns.heatmap(lr_cm, annot=True, fmt=\"d\", cmap=\"Blues\")\n",
    "plt.title(\"Logistic Regression Confusion Matrix\")\n",
    "plt.xlabel(\"Predicted Labels\")\n",
    "plt.ylabel(\"True Labels\")\n",
    "plt.show()"
   ]
  },
  {
   "cell_type": "markdown",
   "id": "4ac04d59",
   "metadata": {},
   "source": [
    "#### DT Confusion Matrix"
   ]
  },
  {
   "cell_type": "code",
   "execution_count": 217,
   "id": "ee15ea60",
   "metadata": {},
   "outputs": [
    {
     "name": "stdout",
     "output_type": "stream",
     "text": [
      "[[ 688 1130]\n",
      " [ 491 2691]]\n"
     ]
    },
    {
     "data": {
      "image/png": "[encoded data removed]",
      "text/plain": [
       "<Figure size 800x600 with 2 Axes>"
      ]
     },
     "metadata": {},
     "output_type": "display_data"
    }
   ],
   "source": [
    "# Decision Tree Confusion Matrix\n",
    "dt_cm = confusion_matrix(y_test, dt_classifier.predict(X_test))\n",
    "print(dt_cm)\n",
    "plt.figure(figsize=(8, 6))\n",
    "sns.heatmap(dt_cm, annot=True, fmt=\"d\", cmap=\"Blues\")\n",
    "plt.title(\"Decision Tree Confusion Matrix\")\n",
    "plt.xlabel(\"Predicted Labels\")\n",
    "plt.ylabel(\"True Labels\")\n",
    "plt.show()"
   ]
  },
  {
   "cell_type": "markdown",
   "id": "364b5850",
   "metadata": {},
   "source": [
    "#### SVM Confusion Matrix"
   ]
  },
  {
   "cell_type": "code",
   "execution_count": 219,
   "id": "60d41821",
   "metadata": {},
   "outputs": [
    {
     "name": "stdout",
     "output_type": "stream",
     "text": [
      "[[ 520 1298]\n",
      " [ 261 2921]]\n"
     ]
    },
    {
     "data": {
      "image/png": "[encoded data removed]",
      "text/plain": [
       "<Figure size 800x600 with 2 Axes>"
      ]
     },
     "metadata": {},
     "output_type": "display_data"
    }
   ],
   "source": [
    "# SVM with RBF Kernel Confusion Matrix\n",
    "svm_cm = confusion_matrix(y_test, svm_classifier.predict(X_test))\n",
    "print(svm_cm)\n",
    "plt.figure(figsize=(8, 6))\n",
    "sns.heatmap(svm_cm, annot=True, fmt=\"d\", cmap=\"Blues\")\n",
    "plt.title(\"SVM with RBF Kernel Confusion Matrix\")\n",
    "plt.xlabel(\"Predicted Labels\")\n",
    "plt.ylabel(\"True Labels\")\n",
    "plt.show()"
   ]
  },
  {
   "cell_type": "markdown",
   "id": "f0996fdf",
   "metadata": {},
   "source": []
  },
  {
   "cell_type": "markdown",
   "id": "ee71c138",
   "metadata": {},
   "source": [
    "#### KNN Confusion Matrix"
   ]
  },
  {
   "cell_type": "code",
   "execution_count": 218,
   "id": "1aff7e44",
   "metadata": {},
   "outputs": [
    {
     "name": "stdout",
     "output_type": "stream",
     "text": [
      "[[ 796 1022]\n",
      " [ 690 2492]]\n"
     ]
    },
    {
     "data": {
      "image/png": "[encoded data removed]",
      "text/plain": [
       "<Figure size 800x600 with 2 Axes>"
      ]
     },
     "metadata": {},
     "output_type": "display_data"
    }
   ],
   "source": [
    "# KNN Confusion Matrix\n",
    "knn_cm = confusion_matrix(y_test, knn_classifier.predict(X_test))\n",
    "print(knn_cm)\n",
    "plt.figure(figsize=(8, 6))\n",
    "sns.heatmap(knn_cm, annot=True, fmt=\"d\", cmap=\"Blues\")\n",
    "plt.title(\"KNN Confusion Matrix\")\n",
    "plt.xlabel(\"Predicted Labels\")\n",
    "plt.ylabel(\"True Labels\")\n",
    "plt.show()"
   ]
  },
  {
   "cell_type": "markdown",
   "id": "e2681a15",
   "metadata": {},
   "source": [
    "### B: Calculating the Test Scores to Justify the Success Criteria"
   ]
  },
  {
   "cell_type": "code",
   "execution_count": 221,
   "id": "0742e83f",
   "metadata": {},
   "outputs": [
    {
     "name": "stdout",
     "output_type": "stream",
     "text": [
      "Logistic Regression Test Scores:\n",
      "Accuracy: 0.6726\n",
      "Recall: 0.8966059082338153\n",
      "Precision: 0.6856524873828407\n",
      "F1-Score: 0.7770665940351356\n",
      "AUC-ROC Score: 0.5885669805195479\n",
      "\n",
      "\n",
      "Decision Tree Test Scores:\n",
      "Accuracy: 0.6758\n",
      "Recall: 0.8456945317410434\n",
      "Precision: 0.7042658989793248\n",
      "F1-Score: 0.7685277738112236\n",
      "AUC-ROC Score: 0.6120661877627109\n",
      "\n",
      "\n",
      "KNN Test Scores:\n",
      "Accuracy: 0.6576\n",
      "Recall: 0.7831552482715274\n",
      "Precision: 0.7091633466135459\n",
      "F1-Score: 0.7443249701314218\n",
      "AUC-ROC Score: 0.6104995163249827\n",
      "\n",
      "\n",
      "SVM with RBF Kernel Test Scores:\n",
      "Accuracy: 0.6882\n",
      "Recall: 0.9179761156505343\n",
      "Precision: 0.6923441573832662\n",
      "F1-Score: 0.7893527901634914\n",
      "AUC-ROC Score: 0.6020023592554102\n",
      "\n",
      "\n",
      "Naive Bayes Test Scores:\n",
      "Accuracy: 0.6728\n",
      "Recall: 0.904776869893149\n",
      "Precision: 0.6835232668566001\n",
      "F1-Score: 0.7787395185285366\n",
      "AUC-ROC Score: 0.585776773780458\n",
      "\n",
      "\n"
     ]
    }
   ],
   "source": [
    "from sklearn.metrics import accuracy_score, recall_score, precision_score, f1_score, roc_auc_score\n",
    "\n",
    "# Function to calculate and print test scores\n",
    "def calculate_test_scores(y_true, y_pred):\n",
    "    accuracy = accuracy_score(y_true, y_pred)\n",
    "    recall = recall_score(y_true, y_pred)\n",
    "    precision = precision_score(y_true, y_pred)\n",
    "    f1 = f1_score(y_true, y_pred)\n",
    "    auc_roc = roc_auc_score(y_true, y_pred)\n",
    "    \n",
    "    print(\"Accuracy:\", accuracy)\n",
    "    print(\"Recall:\", recall)\n",
    "    print(\"Precision:\", precision)\n",
    "    print(\"F1-Score:\", f1)\n",
    "    print(\"AUC-ROC Score:\", auc_roc)\n",
    "    print(\"\\n\")\n",
    "\n",
    "# Calculate and print test scores for each model\n",
    "print(\"Logistic Regression Test Scores:\")\n",
    "calculate_test_scores(y_test, lr_classifier.predict(X_test))\n",
    "\n",
    "print(\"Decision Tree Test Scores:\")\n",
    "calculate_test_scores(y_test, dt_classifier.predict(X_test))\n",
    "\n",
    "print(\"KNN Test Scores:\")\n",
    "calculate_test_scores(y_test, knn_classifier.predict(X_test))\n",
    "\n",
    "print(\"SVM with RBF Kernel Test Scores:\")\n",
    "calculate_test_scores(y_test, svm_classifier.predict(X_test))\n",
    "\n",
    "print(\"Naive Bayes Test Scores:\")\n",
    "calculate_test_scores(y_test, nb_classifier.predict(X_test))\n"
   ]
  },
  {
   "cell_type": "markdown",
   "id": "76700ddb",
   "metadata": {},
   "source": [
    "### D: Retraining with hyperparameter tuning & GridSearchCV"
   ]
  },
  {
   "cell_type": "code",
   "execution_count": 222,
   "id": "f020a593",
   "metadata": {},
   "outputs": [
    {
     "name": "stdout",
     "output_type": "stream",
     "text": [
      "Fitting 10 folds for each of 16 candidates, totalling 160 fits\n",
      "Best Hyper-parameters:  {'C': 100, 'gamma': 0.1, 'kernel': 'rbf'}\n",
      "Confusion Matrix for Tuned SVM Model:\n",
      "[[ 558 1260]\n",
      " [ 288 2894]]\n",
      "\n",
      "Test Scores for Tuned SVM Model:\n",
      "Accuracy: 0.6904\n",
      "Recall: 0.9094908862350722\n",
      "Precision: 0.6966779008184882\n",
      "F1-Score: 0.7889858233369684\n",
      "AUC-ROC Score: 0.6082107896521896\n",
      "\n",
      "\n"
     ]
    },
    {
     "data": {
      "image/png": "[encoded data removed]",
      "text/plain": [
       "<Figure size 800x600 with 2 Axes>"
      ]
     },
     "metadata": {},
     "output_type": "display_data"
    }
   ],
   "source": [
    "from sklearn.model_selection import GridSearchCV\n",
    "from sklearn.svm import SVC\n",
    "from sklearn.metrics import confusion_matrix, accuracy_score, precision_score, recall_score, f1_score\n",
    "\n",
    "param_grid = {\n",
    "    'C': [0.1, 1, 10, 100],\n",
    "    'gamma': [0.1, 0.01, 0.001, 0.0001],\n",
    "    'kernel': ['rbf']\n",
    "}\n",
    "\n",
    "svm_classifier_tuned = SVC()\n",
    "\n",
    "grid_search = GridSearchCV(svm_classifier_tuned, param_grid, cv=10, scoring='accuracy', verbose=1)\n",
    "\n",
    "#Fit gridsearchcv to find the best hyper parameters\n",
    "grid_search.fit(X_train, y_train)\n",
    "\n",
    "#get the best hyper parameters\n",
    "best_params = grid_search.best_params_\n",
    "print('Best Hyper-parameters: ', best_params)\n",
    "\n",
    "#Re-train the svm model with best hyperparams\n",
    "svm_classifier_tuned = SVC(**best_params)\n",
    "svm_classifier_tuned.fit(X_train, y_train)\n",
    "\n",
    "#Get prediction on the test set\n",
    "y_pred_svm_tuned = svm_classifier_tuned.predict(X_test)\n",
    "\n",
    "#Claculate and print the confusion matrix\n",
    "conf_matrix_svm_tuned = confusion_matrix(y_test, y_pred_svm_tuned)\n",
    "print(\"Confusion Matrix for Tuned SVM Model:\")\n",
    "print(conf_matrix_svm_tuned)\n",
    "\n",
    "# Calculate and print test scores for the tuned SVM model\n",
    "print(\"\\nTest Scores for Tuned SVM Model:\")\n",
    "calculate_test_scores(y_test, y_pred_svm_tuned)\n",
    "\n",
    "#Confusion Matrix in Chart\n",
    "svm_cm_tuned = confusion_matrix(y_test, svm_classifier_tuned.predict(X_test))\n",
    "plt.figure(figsize=(8, 6))\n",
    "sns.heatmap(svm_cm_tuned, annot=True, fmt=\"d\", cmap=\"Blues\")\n",
    "plt.title(\"SVM with RBF Kernel Confusion Matrix Tuned\")\n",
    "plt.xlabel(\"Predicted Labels\")\n",
    "plt.ylabel(\"True Labels\")\n",
    "plt.show()\n",
    "\n"
   ]
  },
  {
   "cell_type": "markdown",
   "id": "aea931dd",
   "metadata": {},
   "source": [
    "### E: Creating Ensemble Voting Learner"
   ]
  },
  {
   "cell_type": "code",
   "execution_count": 223,
   "id": "1f36538e",
   "metadata": {},
   "outputs": [
    {
     "name": "stdout",
     "output_type": "stream",
     "text": [
      "\n",
      "Test Scores for Tuned SVM Model:\n",
      "Accuracy: 0.6832\n",
      "Recall: 0.8519798868636078\n",
      "Precision: 0.7089435146443515\n",
      "F1-Score: 0.773908078789609\n",
      "AUC-ROC Score: 0.6198843328707477\n",
      "\n",
      "\n",
      "Confusion Matrix for Ensemble Voting Classifier:\n",
      "[[ 705 1113]\n",
      " [ 471 2711]]\n"
     ]
    },
    {
     "data": {
      "image/png": "[encoded data removed]",
      "text/plain": [
       "<Figure size 800x600 with 2 Axes>"
      ]
     },
     "metadata": {},
     "output_type": "display_data"
    }
   ],
   "source": [
    "from sklearn.ensemble import VotingClassifier\n",
    "from sklearn.metrics import confusion_matrix, accuracy_score, recall_score, precision_score, f1_score, roc_auc_score\n",
    "\n",
    "#creating voting classifier\n",
    "voting_clf = VotingClassifier(\n",
    "        estimators=[('nb', nb_classifier), ('svm', svm_classifier_tuned) ],\n",
    "        voting='hard'\n",
    ")\n",
    "\n",
    "#training the ensembe model\n",
    "voting_clf.fit(X_train, y_train)\n",
    "\n",
    "#making predictions\n",
    "y_pred_voting = voting_clf.predict(X_test)\n",
    "\n",
    "# Calculate and print test scores for the tuned SVM model\n",
    "print(\"\\nTest Scores for Ensembe Voting Classifier:\")\n",
    "calculate_test_scores(y_test, y_pred_voting)\n",
    "\n",
    "#confusion matrix for the EVC\n",
    "conf_matrix = confusion_matrix(y_test, y_pred_voting)\n",
    "print(\"Confusion Matrix for Ensemble Voting Classifier:\")\n",
    "print(conf_matrix)\n",
    "\n",
    "#Confusion Matrix in Chart\n",
    "evc_cm = confusion_matrix(y_test, y_pred_voting)\n",
    "plt.figure(figsize=(8, 6))\n",
    "sns.heatmap(evc_cm, annot=True, fmt=\"d\", cmap=\"Blues\")\n",
    "plt.title(\"Ensemble Voting Classifier Confusion Matrix Tuned\")\n",
    "plt.xlabel(\"Predicted Labels\")\n",
    "plt.ylabel(\"True Labels\")\n",
    "plt.show()\n",
    "\n"
   ]
  }
 ],
 "metadata": {
  "kernelspec": {
   "display_name": "Python 3 (ipykernel)",
   "language": "python",
   "name": "python3"
  },
  "language_info": {
   "codemirror_mode": {
    "name": "ipython",
    "version": 3
   },
   "file_extension": ".py",
   "mimetype": "text/x-python",
   "name": "python",
   "nbconvert_exporter": "python",
   "pygments_lexer": "ipython3",
   "version": "3.11.7"
  },
  "widgets": {
   "application/vnd.jupyter.widget-state+json": {
    "state": {},
    "version_major": 2,
    "version_minor": 0
   }
  }
 },
 "nbformat": 4,
 "nbformat_minor": 5
}
