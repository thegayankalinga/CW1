{
 "cells": [
  {
   "cell_type": "code",
   "execution_count": null,
   "id": "990f42a3-8b86-4e73-9c28-1361b890fe2a",
   "metadata": {},
   "outputs": [],
   "source": [
    "#Step 01: Import the required libraries\n",
    "%config IPCompleter.greedy=True\n",
    "import pandas as pd\n",
    "import matplotlib.pyplot as plt\n",
    "import seaborn as sns #Python data visualization library form matplotlib"
   ]
  },
  {
   "cell_type": "code",
   "execution_count": null,
   "id": "5019e802-6cee-4244-b641-d1e745a35b65",
   "metadata": {},
   "outputs": [],
   "source": [
    "#Set Pandas Options to show the data\n",
    "pd.set_option('display.max_columns', None)\n",
    "#pd.set_option('display.max_rows', None)"
   ]
  },
  {
   "cell_type": "code",
   "execution_count": null,
   "id": "cd36724a-7d5a-4f75-b430-c42b4c730fd2",
   "metadata": {},
   "outputs": [],
   "source": [
    "#Step 02: Load the dataset\n",
    "data_frame = pd.read_csv('monkeypox_dataset.csv')\n",
    "\n",
    "#List down the columns\n",
    "data_frame.columns"
   ]
  },
  {
   "cell_type": "code",
   "execution_count": null,
   "id": "9d469e9c-7ee1-405f-a244-5718c753d197",
   "metadata": {},
   "outputs": [],
   "source": [
    "#Step 03: Retain the required variables\n",
    "retained_variables = [\n",
    "    'Test ID','Systemic Illness', 'Encoded Systemic Illness',\n",
    "       'Rectal Pain', 'Sore Throat', 'Penile Oedema', 'Oral Lesions',\n",
    "       'Solitary Lesion', 'Swollen Tonsils', 'HIV Infection',\n",
    "       'Red blood cells count', 'White blood cells count',\n",
    "       'Age', 'Health Insurance',\n",
    "       'Sexually Transmitted Infection', 'MPOX PCR Result'\n",
    "]\n",
    "\n",
    "data_frame_with_retained_variables = data_frame[retained_variables]\n",
    "display(data_frame_with_retained_variables)#Test the code (remove later)"
   ]
  },
  {
   "cell_type": "code",
   "execution_count": null,
   "id": "3e828248-138b-4acf-89e6-c285338b9b71",
   "metadata": {},
   "outputs": [],
   "source": [
    "#Step 04: Basic Statistical Description\n",
    "# description = data_frame_with_retained_variables.describe(include='all')\n",
    "description = data_frame_with_retained_variables.describe()\n",
    "display(description)"
   ]
  },
  {
   "cell_type": "code",
   "execution_count": null,
   "id": "146faf05-63b1-43c6-b08e-b2806aa3cd6f",
   "metadata": {},
   "outputs": [],
   "source": [
    "#Step 05: Measurement Scale Type\n",
    "measurement_scale = data_frame_with_retained_variables.dtypes\n",
    "display(measurement_scale)"
   ]
  },
  {
   "cell_type": "code",
   "execution_count": null,
   "id": "29f02b20-38b1-4382-ba56-7e487723349c",
   "metadata": {},
   "outputs": [],
   "source": [
    "#Step 06: Plot the distribution of class variables\n",
    "sns.countplot(x = 'MPOX PCR Result', data=data_frame_with_retained_variables)\n",
    "plt.xlabel('MPOX PCR Result')\n",
    "plt.ylabel('Count')\n",
    "plt.title('Distribution of PCR Test Result')\n",
    "plt.show()"
   ]
  },
  {
   "cell_type": "code",
   "execution_count": null,
   "id": "ba3cdd7d",
   "metadata": {},
   "outputs": [],
   "source": [
    "data_frame_with_retained_variables.hist(bins = 60, figsize = (20,20))"
   ]
  },
  {
   "cell_type": "markdown",
   "id": "9c849807",
   "metadata": {},
   "source": [
    "# Task 03: Identifying and Fixing the Variable Issues"
   ]
  },
  {
   "cell_type": "code",
   "execution_count": 31,
   "id": "d1393920",
   "metadata": {},
   "outputs": [
    {
     "data": {
      "text/plain": [
       "Test ID                              0\n",
       "Systemic Illness                  6216\n",
       "Encoded Systemic Illness             2\n",
       "Rectal Pain                          3\n",
       "Sore Throat                          0\n",
       "Penile Oedema                        6\n",
       "Oral Lesions                         4\n",
       "Solitary Lesion                      0\n",
       "Swollen Tonsils                      7\n",
       "HIV Infection                        5\n",
       "Red blood cells count                0\n",
       "White blood cells count              0\n",
       "Age                                 36\n",
       "Health Insurance                     0\n",
       "Sexually Transmitted Infection       4\n",
       "MPOX PCR Result                      0\n",
       "dtype: int64"
      ]
     },
     "execution_count": 31,
     "metadata": {},
     "output_type": "execute_result"
    }
   ],
   "source": [
    "data_frame_with_retained_variables.isna().sum()"
   ]
  },
  {
   "cell_type": "code",
   "execution_count": 27,
   "id": "e1eca889",
   "metadata": {},
   "outputs": [
    {
     "data": {
      "text/html": [
       "<div>\n",
       "<style scoped>\n",
       "    .dataframe tbody tr th:only-of-type {\n",
       "        vertical-align: middle;\n",
       "    }\n",
       "\n",
       "    .dataframe tbody tr th {\n",
       "        vertical-align: top;\n",
       "    }\n",
       "\n",
       "    .dataframe thead th {\n",
       "        text-align: right;\n",
       "    }\n",
       "</style>\n",
       "<table border=\"1\" class=\"dataframe\">\n",
       "  <thead>\n",
       "    <tr style=\"text-align: right;\">\n",
       "      <th></th>\n",
       "      <th>Test ID</th>\n",
       "      <th>Systemic Illness</th>\n",
       "      <th>Encoded Systemic Illness</th>\n",
       "      <th>Rectal Pain</th>\n",
       "      <th>Sore Throat</th>\n",
       "      <th>Penile Oedema</th>\n",
       "      <th>Oral Lesions</th>\n",
       "      <th>Solitary Lesion</th>\n",
       "      <th>Swollen Tonsils</th>\n",
       "      <th>HIV Infection</th>\n",
       "      <th>Red blood cells count</th>\n",
       "      <th>White blood cells count</th>\n",
       "      <th>Age</th>\n",
       "      <th>Health Insurance</th>\n",
       "      <th>Sexually Transmitted Infection</th>\n",
       "      <th>MPOX PCR Result</th>\n",
       "    </tr>\n",
       "  </thead>\n",
       "  <tbody>\n",
       "    <tr>\n",
       "      <th>33</th>\n",
       "      <td>AA0054</td>\n",
       "      <td>fever</td>\n",
       "      <td>1.0</td>\n",
       "      <td>0.0</td>\n",
       "      <td>0</td>\n",
       "      <td>0.0</td>\n",
       "      <td>1</td>\n",
       "      <td>0</td>\n",
       "      <td>0.0</td>\n",
       "      <td>0.0</td>\n",
       "      <td>4829403</td>\n",
       "      <td>9994</td>\n",
       "      <td>36</td>\n",
       "      <td>1</td>\n",
       "      <td>1.0</td>\n",
       "      <td>Negative</td>\n",
       "    </tr>\n",
       "  </tbody>\n",
       "</table>\n",
       "</div>"
      ],
      "text/plain": [
       "   Test ID Systemic Illness  Encoded Systemic Illness  Rectal Pain  \\\n",
       "33  AA0054            fever                       1.0          0.0   \n",
       "\n",
       "    Sore Throat  Penile Oedema Oral Lesions  Solitary Lesion  Swollen Tonsils  \\\n",
       "33            0            0.0            1                0              0.0   \n",
       "\n",
       "    HIV Infection  Red blood cells count  White blood cells count Age  \\\n",
       "33            0.0                4829403                     9994  36   \n",
       "\n",
       "    Health Insurance  Sexually Transmitted Infection MPOX PCR Result  \n",
       "33                 1                             1.0        Negative  "
      ]
     },
     "execution_count": 27,
     "metadata": {},
     "output_type": "execute_result"
    }
   ],
   "source": [
    "#Systemic Illness | Mistaken value\n",
    "data_frame_with_retained_variables[data_frame_with_retained_variables['Systemic Illness']=='fever']"
   ]
  },
  {
   "cell_type": "code",
   "execution_count": 46,
   "id": "124a314e",
   "metadata": {},
   "outputs": [
    {
     "data": {
      "text/html": [
       "<div>\n",
       "<style scoped>\n",
       "    .dataframe tbody tr th:only-of-type {\n",
       "        vertical-align: middle;\n",
       "    }\n",
       "\n",
       "    .dataframe tbody tr th {\n",
       "        vertical-align: top;\n",
       "    }\n",
       "\n",
       "    .dataframe thead th {\n",
       "        text-align: right;\n",
       "    }\n",
       "</style>\n",
       "<table border=\"1\" class=\"dataframe\">\n",
       "  <thead>\n",
       "    <tr style=\"text-align: right;\">\n",
       "      <th></th>\n",
       "      <th>Test ID</th>\n",
       "      <th>Systemic Illness</th>\n",
       "      <th>Encoded Systemic Illness</th>\n",
       "      <th>Rectal Pain</th>\n",
       "      <th>Sore Throat</th>\n",
       "      <th>Penile Oedema</th>\n",
       "      <th>Oral Lesions</th>\n",
       "      <th>Solitary Lesion</th>\n",
       "      <th>Swollen Tonsils</th>\n",
       "      <th>HIV Infection</th>\n",
       "      <th>Red blood cells count</th>\n",
       "      <th>White blood cells count</th>\n",
       "      <th>Age</th>\n",
       "      <th>Health Insurance</th>\n",
       "      <th>Sexually Transmitted Infection</th>\n",
       "      <th>MPOX PCR Result</th>\n",
       "    </tr>\n",
       "  </thead>\n",
       "  <tbody>\n",
       "  </tbody>\n",
       "</table>\n",
       "</div>"
      ],
      "text/plain": [
       "Empty DataFrame\n",
       "Columns: [Test ID, Systemic Illness, Encoded Systemic Illness, Rectal Pain, Sore Throat, Penile Oedema, Oral Lesions, Solitary Lesion, Swollen Tonsils, HIV Infection, Red blood cells count, White blood cells count, Age, Health Insurance, Sexually Transmitted Infection, MPOX PCR Result]\n",
       "Index: []"
      ]
     },
     "execution_count": 46,
     "metadata": {},
     "output_type": "execute_result"
    }
   ],
   "source": [
    "#Fixing the Systemic Illness\n",
    "mask = (data_frame_with_retained_variables['Systemic Illness'] == 'fever') \n",
    "data_frame_with_retained_variables.loc[mask, 'Systemic Illness'] = 'Fever'\n",
    "data_frame_with_retained_variables[data_frame_with_retained_variables['Systemic Illness']=='fever']\n"
   ]
  },
  {
   "cell_type": "code",
   "execution_count": 45,
   "id": "9a776db2",
   "metadata": {},
   "outputs": [
    {
     "data": {
      "text/plain": [
       "Test ID                              0\n",
       "Systemic Illness                  6216\n",
       "Encoded Systemic Illness             2\n",
       "Rectal Pain                          3\n",
       "Sore Throat                          0\n",
       "Penile Oedema                        6\n",
       "Oral Lesions                         4\n",
       "Solitary Lesion                      0\n",
       "Swollen Tonsils                      7\n",
       "HIV Infection                        5\n",
       "Red blood cells count                0\n",
       "White blood cells count              0\n",
       "Age                                 36\n",
       "Health Insurance                     0\n",
       "Sexually Transmitted Infection       4\n",
       "MPOX PCR Result                      0\n",
       "dtype: int64"
      ]
     },
     "execution_count": 45,
     "metadata": {},
     "output_type": "execute_result"
    }
   ],
   "source": [
    "#Last check to verify if all the data issues has fixed \n",
    "data_frame_with_retained_variables.isna().sum()"
   ]
  },
  {
   "cell_type": "code",
   "execution_count": null,
   "id": "cde2a384",
   "metadata": {},
   "outputs": [],
   "source": [
    "#Look for Null Values \n",
    "#data_frame_with_retained_variables.isnull().sum()\n",
    "data_frame_with_retained_variables.isna().sum()"
   ]
  },
  {
   "cell_type": "code",
   "execution_count": null,
   "id": "b0af7fa4-9bdc-44cf-8208-f42061e83e3b",
   "metadata": {},
   "outputs": [],
   "source": [
    "#Check the rows with 'Age' columns is null or not avaialble\n",
    "data_frame_with_retained_variables[data_frame_with_retained_variables['Age'].isna()]"
   ]
  },
  {
   "cell_type": "code",
   "execution_count": null,
   "id": "49de86a1",
   "metadata": {},
   "outputs": [],
   "source": [
    "red_blood_cells = data_frame_with_retained_variables[data_frame_with_retained_variables['Red blood cells count'] > 5800000]"
   ]
  },
  {
   "cell_type": "code",
   "execution_count": null,
   "id": "7ded2bb3",
   "metadata": {},
   "outputs": [],
   "source": [
    "white_blood_cells = data_frame_with_retained_variables[data_frame_with_retained_variables['White blood cells count'] > 1]"
   ]
  },
  {
   "cell_type": "code",
   "execution_count": null,
   "id": "5ccb6047",
   "metadata": {},
   "outputs": [],
   "source": [
    "red_blood_cells[['Test ID', 'Red blood cells count']].plot(kind='scatter', x='Test ID', y='Red blood cells count')"
   ]
  },
  {
   "cell_type": "code",
   "execution_count": null,
   "id": "09739479",
   "metadata": {},
   "outputs": [],
   "source": [
    "white_blood_cells[['Test ID', 'White blood cells count']].plot(kind='scatter', x='Test ID', y='White blood cells count')"
   ]
  },
  {
   "cell_type": "code",
   "execution_count": 34,
   "id": "816f1458",
   "metadata": {},
   "outputs": [],
   "source": [
    "systemic_illness = data_frame_with_retained_variables[data_frame_with_retained_variables['Systemic Illness'].notnull()]\n",
    "\n",
    "# Count the occurrences of each unique value in 'Systemic Illness'\n",
    "counted_systemic_illness = systemic_illness['Systemic Illness'].value_counts()\n"
   ]
  },
  {
   "cell_type": "code",
   "execution_count": null,
   "id": "7f3181dc",
   "metadata": {},
   "outputs": [],
   "source": [
    "counted_systemic_illness.plot(kind='bar', figsize=(10, 6))"
   ]
  },
  {
   "cell_type": "code",
   "execution_count": null,
   "id": "1d8ceea5",
   "metadata": {},
   "outputs": [],
   "source": [
    "data_frame_with_retained_variables['Encoded Systemic Illness'].value_counts()"
   ]
  },
  {
   "cell_type": "code",
   "execution_count": null,
   "id": "70ad74e0-cf39-42a9-8f03-cc2b6621646a",
   "metadata": {},
   "outputs": [],
   "source": [
    "data_frame_with_retained_variables.duplicated().sum()"
   ]
  },
  {
   "cell_type": "code",
   "execution_count": null,
   "id": "9945055c-90ea-4155-aae7-a322f3b89782",
   "metadata": {},
   "outputs": [],
   "source": [
    "data_frame_with_retained_variables.value_counts()"
   ]
  },
  {
   "cell_type": "code",
   "execution_count": null,
   "id": "485de4c1-a914-467e-bedd-2794d5070b8e",
   "metadata": {},
   "outputs": [],
   "source": [
    "binary_data_frame = data_frame_with_retained_variables[[\n",
    "       'Rectal Pain', 'Sore Throat','Penile Oedema',\n",
    "       'Solitary Lesion', 'Swollen Tonsils', 'HIV Infection',\n",
    "       'Sexually Transmitted Infection'\n",
    "]]\n",
    "binary_data_frame\n",
    "binary_data_frame.apply(pd.Series.value_counts)\n"
   ]
  },
  {
   "cell_type": "markdown",
   "id": "726f27e9",
   "metadata": {},
   "source": [
    "## Data Cleaning"
   ]
  },
  {
   "cell_type": "code",
   "execution_count": null,
   "id": "68e1fe25",
   "metadata": {},
   "outputs": [],
   "source": [
    "data_frame"
   ]
  }
 ],
 "metadata": {
  "kernelspec": {
   "display_name": "Python 3 (ipykernel)",
   "language": "python",
   "name": "python3"
  },
  "language_info": {
   "codemirror_mode": {
    "name": "ipython",
    "version": 3
   },
   "file_extension": ".py",
   "mimetype": "text/x-python",
   "name": "python",
   "nbconvert_exporter": "python",
   "pygments_lexer": "ipython3",
   "version": "3.11.7"
  },
  "widgets": {
   "application/vnd.jupyter.widget-state+json": {
    "state": {},
    "version_major": 2,
    "version_minor": 0
   }
  }
 },
 "nbformat": 4,
 "nbformat_minor": 5
}
